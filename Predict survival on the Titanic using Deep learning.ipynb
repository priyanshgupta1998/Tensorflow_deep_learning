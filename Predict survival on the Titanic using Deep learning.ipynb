{
  "nbformat": 4,
  "nbformat_minor": 0,
  "metadata": {
    "colab": {
      "name": "TensorFlow_with_GPU (4).ipynb",
      "version": "0.3.2",
      "provenance": [],
      "collapsed_sections": [],
      "include_colab_link": true
    },
    "kernelspec": {
      "name": "python3",
      "display_name": "Python 3"
    },
    "accelerator": "GPU"
  },
  "cells": [
    {
      "cell_type": "markdown",
      "metadata": {
        "id": "view-in-github",
        "colab_type": "text"
      },
      "source": [
        "<a href=\"https://colab.research.google.com/github/priyanshgupta1998/Tensorflow_deep_learning/blob/master/Predict%20survival%20on%20the%20Titanic%20using%20Deep%20learning.ipynb\" target=\"_parent\"><img src=\"https://colab.research.google.com/assets/colab-badge.svg\" alt=\"Open In Colab\"/></a>"
      ]
    },
    {
      "cell_type": "code",
      "metadata": {
        "id": "3S6NNAXa5xtg",
        "colab_type": "code",
        "colab": {}
      },
      "source": [
        ""
      ],
      "execution_count": 0,
      "outputs": []
    },
    {
      "cell_type": "markdown",
      "metadata": {
        "id": "Lqmrgaet0-lN",
        "colab_type": "text"
      },
      "source": [
        "# Titanic: Machine Learning from Disaster on kaggle\n",
        "\n",
        "# Predict survival on the Titanic  using Deep learning"
      ]
    },
    {
      "cell_type": "code",
      "metadata": {
        "id": "USDK_K4D5xqq",
        "colab_type": "code",
        "colab": {}
      },
      "source": [
        ""
      ],
      "execution_count": 0,
      "outputs": []
    },
    {
      "cell_type": "markdown",
      "metadata": {
        "id": "dnfFrNvU1kkj",
        "colab_type": "text"
      },
      "source": [
        "`For the training set, we provide the outcome (also known as the “ground truth”) for each passenger. Your model will be based on “features” like passengers’ gender and class.`\n",
        "\n",
        "\n",
        "\n",
        "##Data description:\n",
        "\n",
        "survival::\tSurvival\t--> 0 = No, 1 = Yes  \n",
        "\n",
        "pclass: :\tTicket class\t---> 1 = 1st, 2 = 2nd, 3 = 3rd\n",
        "\n",
        "embarked:: Port of Embarkation\t--->        \n",
        "C = Cherbourg,        \n",
        "Q = Queenstown,     \n",
        "S = Southampton     \n",
        "\n",
        "\n",
        "\n",
        "\n",
        "`pclass: A proxy for socio-economic status (SES)    `\n",
        "`1st = Upper `     \n",
        "`2nd = Middle`     \n",
        "`3rd = Lower   `        \n",
        "\n",
        "`sibsp: The dataset defines family relations in this way...  `    \n",
        "`Sibling = brother, sister, stepbrother, stepsister   `   \n",
        "`Spouse = husband, wife (mistresses and fiancés were ignored)`    \n",
        "\n",
        "`parch: The dataset defines family relations in this way...`    \n",
        "`Parent = mother, father      ` \n",
        "`Child = daughter, son, stepdaughter, stepson `   \n",
        "`Some children travelled only with a nanny, therefore parch=0 for them.`     "
      ]
    },
    {
      "cell_type": "markdown",
      "metadata": {
        "id": "f6M7IEht5yNx",
        "colab_type": "text"
      },
      "source": [
        "\n",
        "\n",
        "---\n",
        "\n",
        "\n",
        "\n",
        "---\n",
        "\n",
        "\n",
        "\n",
        "---\n",
        "\n",
        "\n",
        "\n",
        "---\n",
        "\n",
        "#Data load"
      ]
    },
    {
      "cell_type": "code",
      "metadata": {
        "id": "7oLR3v3TyyWH",
        "colab_type": "code",
        "outputId": "26957c05-22d4-42f7-c9e2-e07e0f599eac",
        "colab": {
          "base_uri": "https://localhost:8080/",
          "height": 34
        }
      },
      "source": [
        "cd /home"
      ],
      "execution_count": 0,
      "outputs": [
        {
          "output_type": "stream",
          "text": [
            "/home\n"
          ],
          "name": "stdout"
        }
      ]
    },
    {
      "cell_type": "code",
      "metadata": {
        "id": "_G7rWPfByyYD",
        "colab_type": "code",
        "outputId": "983fb2d9-353d-4eaa-8dad-2ae19303e936",
        "colab": {
          "resources": {
            "http://localhost:8080/nbextensions/google.colab/files.js": {
              "data": "Ly8gQ29weXJpZ2h0IDIwMTcgR29vZ2xlIExMQwovLwovLyBMaWNlbnNlZCB1bmRlciB0aGUgQXBhY2hlIExpY2Vuc2UsIFZlcnNpb24gMi4wICh0aGUgIkxpY2Vuc2UiKTsKLy8geW91IG1heSBub3QgdXNlIHRoaXMgZmlsZSBleGNlcHQgaW4gY29tcGxpYW5jZSB3aXRoIHRoZSBMaWNlbnNlLgovLyBZb3UgbWF5IG9idGFpbiBhIGNvcHkgb2YgdGhlIExpY2Vuc2UgYXQKLy8KLy8gICAgICBodHRwOi8vd3d3LmFwYWNoZS5vcmcvbGljZW5zZXMvTElDRU5TRS0yLjAKLy8KLy8gVW5sZXNzIHJlcXVpcmVkIGJ5IGFwcGxpY2FibGUgbGF3IG9yIGFncmVlZCB0byBpbiB3cml0aW5nLCBzb2Z0d2FyZQovLyBkaXN0cmlidXRlZCB1bmRlciB0aGUgTGljZW5zZSBpcyBkaXN0cmlidXRlZCBvbiBhbiAiQVMgSVMiIEJBU0lTLAovLyBXSVRIT1VUIFdBUlJBTlRJRVMgT1IgQ09ORElUSU9OUyBPRiBBTlkgS0lORCwgZWl0aGVyIGV4cHJlc3Mgb3IgaW1wbGllZC4KLy8gU2VlIHRoZSBMaWNlbnNlIGZvciB0aGUgc3BlY2lmaWMgbGFuZ3VhZ2UgZ292ZXJuaW5nIHBlcm1pc3Npb25zIGFuZAovLyBsaW1pdGF0aW9ucyB1bmRlciB0aGUgTGljZW5zZS4KCi8qKgogKiBAZmlsZW92ZXJ2aWV3IEhlbHBlcnMgZm9yIGdvb2dsZS5jb2xhYiBQeXRob24gbW9kdWxlLgogKi8KKGZ1bmN0aW9uKHNjb3BlKSB7CmZ1bmN0aW9uIHNwYW4odGV4dCwgc3R5bGVBdHRyaWJ1dGVzID0ge30pIHsKICBjb25zdCBlbGVtZW50ID0gZG9jdW1lbnQuY3JlYXRlRWxlbWVudCgnc3BhbicpOwogIGVsZW1lbnQudGV4dENvbnRlbnQgPSB0ZXh0OwogIGZvciAoY29uc3Qga2V5IG9mIE9iamVjdC5rZXlzKHN0eWxlQXR0cmlidXRlcykpIHsKICAgIGVsZW1lbnQuc3R5bGVba2V5XSA9IHN0eWxlQXR0cmlidXRlc1trZXldOwogIH0KICByZXR1cm4gZWxlbWVudDsKfQoKLy8gTWF4IG51bWJlciBvZiBieXRlcyB3aGljaCB3aWxsIGJlIHVwbG9hZGVkIGF0IGEgdGltZS4KY29uc3QgTUFYX1BBWUxPQURfU0laRSA9IDEwMCAqIDEwMjQ7Ci8vIE1heCBhbW91bnQgb2YgdGltZSB0byBibG9jayB3YWl0aW5nIGZvciB0aGUgdXNlci4KY29uc3QgRklMRV9DSEFOR0VfVElNRU9VVF9NUyA9IDMwICogMTAwMDsKCmZ1bmN0aW9uIF91cGxvYWRGaWxlcyhpbnB1dElkLCBvdXRwdXRJZCkgewogIGNvbnN0IHN0ZXBzID0gdXBsb2FkRmlsZXNTdGVwKGlucHV0SWQsIG91dHB1dElkKTsKICBjb25zdCBvdXRwdXRFbGVtZW50ID0gZG9jdW1lbnQuZ2V0RWxlbWVudEJ5SWQob3V0cHV0SWQpOwogIC8vIENhY2hlIHN0ZXBzIG9uIHRoZSBvdXRwdXRFbGVtZW50IHRvIG1ha2UgaXQgYXZhaWxhYmxlIGZvciB0aGUgbmV4dCBjYWxsCiAgLy8gdG8gdXBsb2FkRmlsZXNDb250aW51ZSBmcm9tIFB5dGhvbi4KICBvdXRwdXRFbGVtZW50LnN0ZXBzID0gc3RlcHM7CgogIHJldHVybiBfdXBsb2FkRmlsZXNDb250aW51ZShvdXRwdXRJZCk7Cn0KCi8vIFRoaXMgaXMgcm91Z2hseSBhbiBhc3luYyBnZW5lcmF0b3IgKG5vdCBzdXBwb3J0ZWQgaW4gdGhlIGJyb3dzZXIgeWV0KSwKLy8gd2hlcmUgdGhlcmUgYXJlIG11bHRpcGxlIGFzeW5jaHJvbm91cyBzdGVwcyBhbmQgdGhlIFB5dGhvbiBzaWRlIGlzIGdvaW5nCi8vIHRvIHBvbGwgZm9yIGNvbXBsZXRpb24gb2YgZWFjaCBzdGVwLgovLyBUaGlzIHVzZXMgYSBQcm9taXNlIHRvIGJsb2NrIHRoZSBweXRob24gc2lkZSBvbiBjb21wbGV0aW9uIG9mIGVhY2ggc3RlcCwKLy8gdGhlbiBwYXNzZXMgdGhlIHJlc3VsdCBvZiB0aGUgcHJldmlvdXMgc3RlcCBhcyB0aGUgaW5wdXQgdG8gdGhlIG5leHQgc3RlcC4KZnVuY3Rpb24gX3VwbG9hZEZpbGVzQ29udGludWUob3V0cHV0SWQpIHsKICBjb25zdCBvdXRwdXRFbGVtZW50ID0gZG9jdW1lbnQuZ2V0RWxlbWVudEJ5SWQob3V0cHV0SWQpOwogIGNvbnN0IHN0ZXBzID0gb3V0cHV0RWxlbWVudC5zdGVwczsKCiAgY29uc3QgbmV4dCA9IHN0ZXBzLm5leHQob3V0cHV0RWxlbWVudC5sYXN0UHJvbWlzZVZhbHVlKTsKICByZXR1cm4gUHJvbWlzZS5yZXNvbHZlKG5leHQudmFsdWUucHJvbWlzZSkudGhlbigodmFsdWUpID0+IHsKICAgIC8vIENhY2hlIHRoZSBsYXN0IHByb21pc2UgdmFsdWUgdG8gbWFrZSBpdCBhdmFpbGFibGUgdG8gdGhlIG5leHQKICAgIC8vIHN0ZXAgb2YgdGhlIGdlbmVyYXRvci4KICAgIG91dHB1dEVsZW1lbnQubGFzdFByb21pc2VWYWx1ZSA9IHZhbHVlOwogICAgcmV0dXJuIG5leHQudmFsdWUucmVzcG9uc2U7CiAgfSk7Cn0KCi8qKgogKiBHZW5lcmF0b3IgZnVuY3Rpb24gd2hpY2ggaXMgY2FsbGVkIGJldHdlZW4gZWFjaCBhc3luYyBzdGVwIG9mIHRoZSB1cGxvYWQKICogcHJvY2Vzcy4KICogQHBhcmFtIHtzdHJpbmd9IGlucHV0SWQgRWxlbWVudCBJRCBvZiB0aGUgaW5wdXQgZmlsZSBwaWNrZXIgZWxlbWVudC4KICogQHBhcmFtIHtzdHJpbmd9IG91dHB1dElkIEVsZW1lbnQgSUQgb2YgdGhlIG91dHB1dCBkaXNwbGF5LgogKiBAcmV0dXJuIHshSXRlcmFibGU8IU9iamVjdD59IEl0ZXJhYmxlIG9mIG5leHQgc3RlcHMuCiAqLwpmdW5jdGlvbiogdXBsb2FkRmlsZXNTdGVwKGlucHV0SWQsIG91dHB1dElkKSB7CiAgY29uc3QgaW5wdXRFbGVtZW50ID0gZG9jdW1lbnQuZ2V0RWxlbWVudEJ5SWQoaW5wdXRJZCk7CiAgaW5wdXRFbGVtZW50LmRpc2FibGVkID0gZmFsc2U7CgogIGNvbnN0IG91dHB1dEVsZW1lbnQgPSBkb2N1bWVudC5nZXRFbGVtZW50QnlJZChvdXRwdXRJZCk7CiAgb3V0cHV0RWxlbWVudC5pbm5lckhUTUwgPSAnJzsKCiAgY29uc3QgcGlja2VkUHJvbWlzZSA9IG5ldyBQcm9taXNlKChyZXNvbHZlKSA9PiB7CiAgICBpbnB1dEVsZW1lbnQuYWRkRXZlbnRMaXN0ZW5lcignY2hhbmdlJywgKGUpID0+IHsKICAgICAgcmVzb2x2ZShlLnRhcmdldC5maWxlcyk7CiAgICB9KTsKICB9KTsKCiAgY29uc3QgY2FuY2VsID0gZG9jdW1lbnQuY3JlYXRlRWxlbWVudCgnYnV0dG9uJyk7CiAgaW5wdXRFbGVtZW50LnBhcmVudEVsZW1lbnQuYXBwZW5kQ2hpbGQoY2FuY2VsKTsKICBjYW5jZWwudGV4dENvbnRlbnQgPSAnQ2FuY2VsIHVwbG9hZCc7CiAgY29uc3QgY2FuY2VsUHJvbWlzZSA9IG5ldyBQcm9taXNlKChyZXNvbHZlKSA9PiB7CiAgICBjYW5jZWwub25jbGljayA9ICgpID0+IHsKICAgICAgcmVzb2x2ZShudWxsKTsKICAgIH07CiAgfSk7CgogIC8vIENhbmNlbCB1cGxvYWQgaWYgdXNlciBoYXNuJ3QgcGlja2VkIGFueXRoaW5nIGluIHRpbWVvdXQuCiAgY29uc3QgdGltZW91dFByb21pc2UgPSBuZXcgUHJvbWlzZSgocmVzb2x2ZSkgPT4gewogICAgc2V0VGltZW91dCgoKSA9PiB7CiAgICAgIHJlc29sdmUobnVsbCk7CiAgICB9LCBGSUxFX0NIQU5HRV9USU1FT1VUX01TKTsKICB9KTsKCiAgLy8gV2FpdCBmb3IgdGhlIHVzZXIgdG8gcGljayB0aGUgZmlsZXMuCiAgY29uc3QgZmlsZXMgPSB5aWVsZCB7CiAgICBwcm9taXNlOiBQcm9taXNlLnJhY2UoW3BpY2tlZFByb21pc2UsIHRpbWVvdXRQcm9taXNlLCBjYW5jZWxQcm9taXNlXSksCiAgICByZXNwb25zZTogewogICAgICBhY3Rpb246ICdzdGFydGluZycsCiAgICB9CiAgfTsKCiAgaWYgKCFmaWxlcykgewogICAgcmV0dXJuIHsKICAgICAgcmVzcG9uc2U6IHsKICAgICAgICBhY3Rpb246ICdjb21wbGV0ZScsCiAgICAgIH0KICAgIH07CiAgfQoKICBjYW5jZWwucmVtb3ZlKCk7CgogIC8vIERpc2FibGUgdGhlIGlucHV0IGVsZW1lbnQgc2luY2UgZnVydGhlciBwaWNrcyBhcmUgbm90IGFsbG93ZWQuCiAgaW5wdXRFbGVtZW50LmRpc2FibGVkID0gdHJ1ZTsKCiAgZm9yIChjb25zdCBmaWxlIG9mIGZpbGVzKSB7CiAgICBjb25zdCBsaSA9IGRvY3VtZW50LmNyZWF0ZUVsZW1lbnQoJ2xpJyk7CiAgICBsaS5hcHBlbmQoc3BhbihmaWxlLm5hbWUsIHtmb250V2VpZ2h0OiAnYm9sZCd9KSk7CiAgICBsaS5hcHBlbmQoc3BhbigKICAgICAgICBgKCR7ZmlsZS50eXBlIHx8ICduL2EnfSkgLSAke2ZpbGUuc2l6ZX0gYnl0ZXMsIGAgKwogICAgICAgIGBsYXN0IG1vZGlmaWVkOiAkewogICAgICAgICAgICBmaWxlLmxhc3RNb2RpZmllZERhdGUgPyBmaWxlLmxhc3RNb2RpZmllZERhdGUudG9Mb2NhbGVEYXRlU3RyaW5nKCkgOgogICAgICAgICAgICAgICAgICAgICAgICAgICAgICAgICAgICAnbi9hJ30gLSBgKSk7CiAgICBjb25zdCBwZXJjZW50ID0gc3BhbignMCUgZG9uZScpOwogICAgbGkuYXBwZW5kQ2hpbGQocGVyY2VudCk7CgogICAgb3V0cHV0RWxlbWVudC5hcHBlbmRDaGlsZChsaSk7CgogICAgY29uc3QgZmlsZURhdGFQcm9taXNlID0gbmV3IFByb21pc2UoKHJlc29sdmUpID0+IHsKICAgICAgY29uc3QgcmVhZGVyID0gbmV3IEZpbGVSZWFkZXIoKTsKICAgICAgcmVhZGVyLm9ubG9hZCA9IChlKSA9PiB7CiAgICAgICAgcmVzb2x2ZShlLnRhcmdldC5yZXN1bHQpOwogICAgICB9OwogICAgICByZWFkZXIucmVhZEFzQXJyYXlCdWZmZXIoZmlsZSk7CiAgICB9KTsKICAgIC8vIFdhaXQgZm9yIHRoZSBkYXRhIHRvIGJlIHJlYWR5LgogICAgbGV0IGZpbGVEYXRhID0geWllbGQgewogICAgICBwcm9taXNlOiBmaWxlRGF0YVByb21pc2UsCiAgICAgIHJlc3BvbnNlOiB7CiAgICAgICAgYWN0aW9uOiAnY29udGludWUnLAogICAgICB9CiAgICB9OwoKICAgIC8vIFVzZSBhIGNodW5rZWQgc2VuZGluZyB0byBhdm9pZCBtZXNzYWdlIHNpemUgbGltaXRzLiBTZWUgYi82MjExNTY2MC4KICAgIGxldCBwb3NpdGlvbiA9IDA7CiAgICB3aGlsZSAocG9zaXRpb24gPCBmaWxlRGF0YS5ieXRlTGVuZ3RoKSB7CiAgICAgIGNvbnN0IGxlbmd0aCA9IE1hdGgubWluKGZpbGVEYXRhLmJ5dGVMZW5ndGggLSBwb3NpdGlvbiwgTUFYX1BBWUxPQURfU0laRSk7CiAgICAgIGNvbnN0IGNodW5rID0gbmV3IFVpbnQ4QXJyYXkoZmlsZURhdGEsIHBvc2l0aW9uLCBsZW5ndGgpOwogICAgICBwb3NpdGlvbiArPSBsZW5ndGg7CgogICAgICBjb25zdCBiYXNlNjQgPSBidG9hKFN0cmluZy5mcm9tQ2hhckNvZGUuYXBwbHkobnVsbCwgY2h1bmspKTsKICAgICAgeWllbGQgewogICAgICAgIHJlc3BvbnNlOiB7CiAgICAgICAgICBhY3Rpb246ICdhcHBlbmQnLAogICAgICAgICAgZmlsZTogZmlsZS5uYW1lLAogICAgICAgICAgZGF0YTogYmFzZTY0LAogICAgICAgIH0sCiAgICAgIH07CiAgICAgIHBlcmNlbnQudGV4dENvbnRlbnQgPQogICAgICAgICAgYCR7TWF0aC5yb3VuZCgocG9zaXRpb24gLyBmaWxlRGF0YS5ieXRlTGVuZ3RoKSAqIDEwMCl9JSBkb25lYDsKICAgIH0KICB9CgogIC8vIEFsbCBkb25lLgogIHlpZWxkIHsKICAgIHJlc3BvbnNlOiB7CiAgICAgIGFjdGlvbjogJ2NvbXBsZXRlJywKICAgIH0KICB9Owp9CgpzY29wZS5nb29nbGUgPSBzY29wZS5nb29nbGUgfHwge307CnNjb3BlLmdvb2dsZS5jb2xhYiA9IHNjb3BlLmdvb2dsZS5jb2xhYiB8fCB7fTsKc2NvcGUuZ29vZ2xlLmNvbGFiLl9maWxlcyA9IHsKICBfdXBsb2FkRmlsZXMsCiAgX3VwbG9hZEZpbGVzQ29udGludWUsCn07Cn0pKHNlbGYpOwo=",
              "ok": true,
              "headers": [
                [
                  "content-type",
                  "application/javascript"
                ]
              ],
              "status": 200,
              "status_text": ""
            }
          },
          "base_uri": "https://localhost:8080/",
          "height": 74
        }
      },
      "source": [
        "from google.colab import files\n",
        "files.upload()\n",
        "!pip install -q kaggle\n",
        "!mkdir -p ~/.kaggle\n",
        "!cp kaggle.json ~/.kaggle/\n",
        "\n",
        "# This permissions change avoids a warning on Kaggle tool startup.\n",
        "!chmod 600 ~/.kaggle/kaggle.json"
      ],
      "execution_count": 0,
      "outputs": [
        {
          "output_type": "display_data",
          "data": {
            "text/html": [
              "\n",
              "     <input type=\"file\" id=\"files-caf9f299-8d65-478c-a937-b096215692cc\" name=\"files[]\" multiple disabled />\n",
              "     <output id=\"result-caf9f299-8d65-478c-a937-b096215692cc\">\n",
              "      Upload widget is only available when the cell has been executed in the\n",
              "      current browser session. Please rerun this cell to enable.\n",
              "      </output>\n",
              "      <script src=\"/nbextensions/google.colab/files.js\"></script> "
            ],
            "text/plain": [
              "<IPython.core.display.HTML object>"
            ]
          },
          "metadata": {
            "tags": []
          }
        },
        {
          "output_type": "stream",
          "text": [
            "Saving kaggle.json to kaggle.json\n"
          ],
          "name": "stdout"
        }
      ]
    },
    {
      "cell_type": "code",
      "metadata": {
        "id": "zp5zrmZtyybE",
        "colab_type": "code",
        "outputId": "47e42953-0561-4449-cc70-69ed38df3414",
        "colab": {
          "base_uri": "https://localhost:8080/",
          "height": 153
        }
      },
      "source": [
        "!kaggle datasets list -s c/titanic/data"
      ],
      "execution_count": 0,
      "outputs": [
        {
          "output_type": "stream",
          "text": [
            "ref                                                 title                                   size  lastUpdated          downloadCount  \n",
            "--------------------------------------------------  -------------------------------------  -----  -------------------  -------------  \n",
            "azeembootwala/titanic                               Titanic                                 12KB  2017-06-05 12:14:37           1694  \n",
            "pavlofesenko/titanic-extended                       Titanic extended (Kaggle + Wikipedia)  132KB  2019-03-06 09:53:24            256  \n",
            "harunshimanto/titanic-solution-for-beginners-guide  Titanic Solution for Beginner's Guide   34KB  2018-03-12 17:47:06            352  \n",
            "numbersareuseful/titanic-public-leaderboard         Public Leaderboard: Titanic            352KB  2018-05-10 21:53:10             26  \n",
            "igorafm/braziliansc-habeascorpusjan1518             BrazilianSC_HabeasCorpusJan1518        182KB  2018-02-08 14:44:10             32  \n",
            "tpompo/titanic                                      Titanic                                 33KB  2017-12-15 20:59:15             45  \n"
          ],
          "name": "stdout"
        }
      ]
    },
    {
      "cell_type": "code",
      "metadata": {
        "id": "NF5UGEfTyygc",
        "colab_type": "code",
        "outputId": "81248b83-eef3-495c-cda4-be1c5437a0f2",
        "colab": {
          "base_uri": "https://localhost:8080/",
          "height": 68
        }
      },
      "source": [
        "!kaggle datasets download -d harunshimanto/titanic-solution-for-beginners-guide"
      ],
      "execution_count": 0,
      "outputs": [
        {
          "output_type": "stream",
          "text": [
            "Downloading titanic-solution-for-beginners-guide.zip to /home\n",
            "\r  0% 0.00/33.9k [00:00<?, ?B/s]\n",
            "\r100% 33.9k/33.9k [00:00<00:00, 25.0MB/s]\n"
          ],
          "name": "stdout"
        }
      ]
    },
    {
      "cell_type": "code",
      "metadata": {
        "id": "mhGViB_nyyeT",
        "colab_type": "code",
        "outputId": "386d9f85-075e-48cb-f3df-8d4a003e2649",
        "colab": {
          "base_uri": "https://localhost:8080/",
          "height": 85
        }
      },
      "source": [
        "!unzip titanic-solution-for-beginners-guide.zip"
      ],
      "execution_count": 0,
      "outputs": [
        {
          "output_type": "stream",
          "text": [
            "Archive:  titanic-solution-for-beginners-guide.zip\n",
            "  inflating: train.csv               \n",
            "  inflating: genderclassfare.csv     \n",
            "  inflating: test.csv                \n"
          ],
          "name": "stdout"
        }
      ]
    },
    {
      "cell_type": "markdown",
      "metadata": {
        "id": "7A4-pcWt5sXK",
        "colab_type": "text"
      },
      "source": [
        "\n",
        "\n",
        "---\n",
        "\n",
        "\n",
        "\n",
        "---\n",
        "\n",
        "\n",
        "\n",
        "---\n",
        "\n",
        "\n",
        "\n",
        "---\n",
        "#Preprocessing\n"
      ]
    },
    {
      "cell_type": "code",
      "metadata": {
        "id": "FiPChziF4usQ",
        "colab_type": "code",
        "outputId": "e4106998-3837-41a1-cad0-818ab8ab498a",
        "colab": {
          "base_uri": "https://localhost:8080/",
          "height": 34
        }
      },
      "source": [
        "import numpy as np\n",
        "import pandas as pd\n",
        "\n",
        "from keras import models\n",
        "from keras import layers\n",
        "from keras import optimizers\n",
        "from keras import losses \n",
        "from keras import metrics\n",
        "\n",
        "import matplotlib.pyplot as plt"
      ],
      "execution_count": 0,
      "outputs": [
        {
          "output_type": "stream",
          "text": [
            "Using TensorFlow backend.\n"
          ],
          "name": "stderr"
        }
      ]
    },
    {
      "cell_type": "code",
      "metadata": {
        "id": "_v6UrJio4uv1",
        "colab_type": "code",
        "colab": {}
      },
      "source": [
        "training_set = pd.read_csv('train.csv')\n",
        "testing_set = pd.read_csv('test.csv')"
      ],
      "execution_count": 0,
      "outputs": []
    },
    {
      "cell_type": "code",
      "metadata": {
        "id": "pU98D3gh4u59",
        "colab_type": "code",
        "outputId": "0dc49292-b7dd-4bb5-f48a-265426838a8d",
        "colab": {
          "base_uri": "https://localhost:8080/",
          "height": 221
        }
      },
      "source": [
        "print(training_set.shape)\n",
        "training_set.head()"
      ],
      "execution_count": 0,
      "outputs": [
        {
          "output_type": "stream",
          "text": [
            "(891, 12)\n"
          ],
          "name": "stdout"
        },
        {
          "output_type": "execute_result",
          "data": {
            "text/html": [
              "<div>\n",
              "<style scoped>\n",
              "    .dataframe tbody tr th:only-of-type {\n",
              "        vertical-align: middle;\n",
              "    }\n",
              "\n",
              "    .dataframe tbody tr th {\n",
              "        vertical-align: top;\n",
              "    }\n",
              "\n",
              "    .dataframe thead th {\n",
              "        text-align: right;\n",
              "    }\n",
              "</style>\n",
              "<table border=\"1\" class=\"dataframe\">\n",
              "  <thead>\n",
              "    <tr style=\"text-align: right;\">\n",
              "      <th></th>\n",
              "      <th>PassengerId</th>\n",
              "      <th>Survived</th>\n",
              "      <th>Pclass</th>\n",
              "      <th>Name</th>\n",
              "      <th>Sex</th>\n",
              "      <th>Age</th>\n",
              "      <th>SibSp</th>\n",
              "      <th>Parch</th>\n",
              "      <th>Ticket</th>\n",
              "      <th>Fare</th>\n",
              "      <th>Cabin</th>\n",
              "      <th>Embarked</th>\n",
              "    </tr>\n",
              "  </thead>\n",
              "  <tbody>\n",
              "    <tr>\n",
              "      <th>0</th>\n",
              "      <td>1</td>\n",
              "      <td>0</td>\n",
              "      <td>3</td>\n",
              "      <td>Braund, Mr. Owen Harris</td>\n",
              "      <td>male</td>\n",
              "      <td>22.0</td>\n",
              "      <td>1</td>\n",
              "      <td>0</td>\n",
              "      <td>A/5 21171</td>\n",
              "      <td>7.2500</td>\n",
              "      <td>NaN</td>\n",
              "      <td>S</td>\n",
              "    </tr>\n",
              "    <tr>\n",
              "      <th>1</th>\n",
              "      <td>2</td>\n",
              "      <td>1</td>\n",
              "      <td>1</td>\n",
              "      <td>Cumings, Mrs. John Bradley (Florence Briggs Th...</td>\n",
              "      <td>female</td>\n",
              "      <td>38.0</td>\n",
              "      <td>1</td>\n",
              "      <td>0</td>\n",
              "      <td>PC 17599</td>\n",
              "      <td>71.2833</td>\n",
              "      <td>C85</td>\n",
              "      <td>C</td>\n",
              "    </tr>\n",
              "    <tr>\n",
              "      <th>2</th>\n",
              "      <td>3</td>\n",
              "      <td>1</td>\n",
              "      <td>3</td>\n",
              "      <td>Heikkinen, Miss. Laina</td>\n",
              "      <td>female</td>\n",
              "      <td>26.0</td>\n",
              "      <td>0</td>\n",
              "      <td>0</td>\n",
              "      <td>STON/O2. 3101282</td>\n",
              "      <td>7.9250</td>\n",
              "      <td>NaN</td>\n",
              "      <td>S</td>\n",
              "    </tr>\n",
              "    <tr>\n",
              "      <th>3</th>\n",
              "      <td>4</td>\n",
              "      <td>1</td>\n",
              "      <td>1</td>\n",
              "      <td>Futrelle, Mrs. Jacques Heath (Lily May Peel)</td>\n",
              "      <td>female</td>\n",
              "      <td>35.0</td>\n",
              "      <td>1</td>\n",
              "      <td>0</td>\n",
              "      <td>113803</td>\n",
              "      <td>53.1000</td>\n",
              "      <td>C123</td>\n",
              "      <td>S</td>\n",
              "    </tr>\n",
              "    <tr>\n",
              "      <th>4</th>\n",
              "      <td>5</td>\n",
              "      <td>0</td>\n",
              "      <td>3</td>\n",
              "      <td>Allen, Mr. William Henry</td>\n",
              "      <td>male</td>\n",
              "      <td>35.0</td>\n",
              "      <td>0</td>\n",
              "      <td>0</td>\n",
              "      <td>373450</td>\n",
              "      <td>8.0500</td>\n",
              "      <td>NaN</td>\n",
              "      <td>S</td>\n",
              "    </tr>\n",
              "  </tbody>\n",
              "</table>\n",
              "</div>"
            ],
            "text/plain": [
              "   PassengerId  Survived  Pclass  ...     Fare Cabin  Embarked\n",
              "0            1         0       3  ...   7.2500   NaN         S\n",
              "1            2         1       1  ...  71.2833   C85         C\n",
              "2            3         1       3  ...   7.9250   NaN         S\n",
              "3            4         1       1  ...  53.1000  C123         S\n",
              "4            5         0       3  ...   8.0500   NaN         S\n",
              "\n",
              "[5 rows x 12 columns]"
            ]
          },
          "metadata": {
            "tags": []
          },
          "execution_count": 7
        }
      ]
    },
    {
      "cell_type": "code",
      "metadata": {
        "id": "ko-bV_hU4u8S",
        "colab_type": "code",
        "outputId": "ff26b4c3-7a19-45b6-9aea-93efb643c555",
        "colab": {
          "base_uri": "https://localhost:8080/",
          "height": 306
        }
      },
      "source": [
        "training_set.info()"
      ],
      "execution_count": 0,
      "outputs": [
        {
          "output_type": "stream",
          "text": [
            "<class 'pandas.core.frame.DataFrame'>\n",
            "RangeIndex: 891 entries, 0 to 890\n",
            "Data columns (total 12 columns):\n",
            "PassengerId    891 non-null int64\n",
            "Survived       891 non-null int64\n",
            "Pclass         891 non-null int64\n",
            "Name           891 non-null object\n",
            "Sex            891 non-null object\n",
            "Age            714 non-null float64\n",
            "SibSp          891 non-null int64\n",
            "Parch          891 non-null int64\n",
            "Ticket         891 non-null object\n",
            "Fare           891 non-null float64\n",
            "Cabin          204 non-null object\n",
            "Embarked       889 non-null object\n",
            "dtypes: float64(2), int64(5), object(5)\n",
            "memory usage: 83.6+ KB\n"
          ],
          "name": "stdout"
        }
      ]
    },
    {
      "cell_type": "code",
      "metadata": {
        "id": "8RcQDxtq4u_0",
        "colab_type": "code",
        "outputId": "e5323f29-7368-40af-e8d5-3cee49caa317",
        "colab": {
          "base_uri": "https://localhost:8080/",
          "height": 221
        }
      },
      "source": [
        "print(testing_set.shape)\n",
        "testing_set.head()"
      ],
      "execution_count": 0,
      "outputs": [
        {
          "output_type": "stream",
          "text": [
            "(418, 11)\n"
          ],
          "name": "stdout"
        },
        {
          "output_type": "execute_result",
          "data": {
            "text/html": [
              "<div>\n",
              "<style scoped>\n",
              "    .dataframe tbody tr th:only-of-type {\n",
              "        vertical-align: middle;\n",
              "    }\n",
              "\n",
              "    .dataframe tbody tr th {\n",
              "        vertical-align: top;\n",
              "    }\n",
              "\n",
              "    .dataframe thead th {\n",
              "        text-align: right;\n",
              "    }\n",
              "</style>\n",
              "<table border=\"1\" class=\"dataframe\">\n",
              "  <thead>\n",
              "    <tr style=\"text-align: right;\">\n",
              "      <th></th>\n",
              "      <th>PassengerId</th>\n",
              "      <th>Pclass</th>\n",
              "      <th>Name</th>\n",
              "      <th>Sex</th>\n",
              "      <th>Age</th>\n",
              "      <th>SibSp</th>\n",
              "      <th>Parch</th>\n",
              "      <th>Ticket</th>\n",
              "      <th>Fare</th>\n",
              "      <th>Cabin</th>\n",
              "      <th>Embarked</th>\n",
              "    </tr>\n",
              "  </thead>\n",
              "  <tbody>\n",
              "    <tr>\n",
              "      <th>0</th>\n",
              "      <td>892</td>\n",
              "      <td>3</td>\n",
              "      <td>Kelly, Mr. James</td>\n",
              "      <td>male</td>\n",
              "      <td>34.5</td>\n",
              "      <td>0</td>\n",
              "      <td>0</td>\n",
              "      <td>330911</td>\n",
              "      <td>7.8292</td>\n",
              "      <td>NaN</td>\n",
              "      <td>Q</td>\n",
              "    </tr>\n",
              "    <tr>\n",
              "      <th>1</th>\n",
              "      <td>893</td>\n",
              "      <td>3</td>\n",
              "      <td>Wilkes, Mrs. James (Ellen Needs)</td>\n",
              "      <td>female</td>\n",
              "      <td>47.0</td>\n",
              "      <td>1</td>\n",
              "      <td>0</td>\n",
              "      <td>363272</td>\n",
              "      <td>7.0000</td>\n",
              "      <td>NaN</td>\n",
              "      <td>S</td>\n",
              "    </tr>\n",
              "    <tr>\n",
              "      <th>2</th>\n",
              "      <td>894</td>\n",
              "      <td>2</td>\n",
              "      <td>Myles, Mr. Thomas Francis</td>\n",
              "      <td>male</td>\n",
              "      <td>62.0</td>\n",
              "      <td>0</td>\n",
              "      <td>0</td>\n",
              "      <td>240276</td>\n",
              "      <td>9.6875</td>\n",
              "      <td>NaN</td>\n",
              "      <td>Q</td>\n",
              "    </tr>\n",
              "    <tr>\n",
              "      <th>3</th>\n",
              "      <td>895</td>\n",
              "      <td>3</td>\n",
              "      <td>Wirz, Mr. Albert</td>\n",
              "      <td>male</td>\n",
              "      <td>27.0</td>\n",
              "      <td>0</td>\n",
              "      <td>0</td>\n",
              "      <td>315154</td>\n",
              "      <td>8.6625</td>\n",
              "      <td>NaN</td>\n",
              "      <td>S</td>\n",
              "    </tr>\n",
              "    <tr>\n",
              "      <th>4</th>\n",
              "      <td>896</td>\n",
              "      <td>3</td>\n",
              "      <td>Hirvonen, Mrs. Alexander (Helga E Lindqvist)</td>\n",
              "      <td>female</td>\n",
              "      <td>22.0</td>\n",
              "      <td>1</td>\n",
              "      <td>1</td>\n",
              "      <td>3101298</td>\n",
              "      <td>12.2875</td>\n",
              "      <td>NaN</td>\n",
              "      <td>S</td>\n",
              "    </tr>\n",
              "  </tbody>\n",
              "</table>\n",
              "</div>"
            ],
            "text/plain": [
              "   PassengerId  Pclass  ... Cabin Embarked\n",
              "0          892       3  ...   NaN        Q\n",
              "1          893       3  ...   NaN        S\n",
              "2          894       2  ...   NaN        Q\n",
              "3          895       3  ...   NaN        S\n",
              "4          896       3  ...   NaN        S\n",
              "\n",
              "[5 rows x 11 columns]"
            ]
          },
          "metadata": {
            "tags": []
          },
          "execution_count": 24
        }
      ]
    },
    {
      "cell_type": "code",
      "metadata": {
        "id": "UWMpUB_P4vF4",
        "colab_type": "code",
        "outputId": "d3ce3702-c5b9-4c7d-a411-32faa983ca50",
        "colab": {
          "base_uri": "https://localhost:8080/",
          "height": 289
        }
      },
      "source": [
        "testing_set.info()"
      ],
      "execution_count": 0,
      "outputs": [
        {
          "output_type": "stream",
          "text": [
            "<class 'pandas.core.frame.DataFrame'>\n",
            "RangeIndex: 418 entries, 0 to 417\n",
            "Data columns (total 11 columns):\n",
            "PassengerId    418 non-null int64\n",
            "Pclass         418 non-null int64\n",
            "Name           418 non-null object\n",
            "Sex            418 non-null object\n",
            "Age            332 non-null float64\n",
            "SibSp          418 non-null int64\n",
            "Parch          418 non-null int64\n",
            "Ticket         418 non-null object\n",
            "Fare           417 non-null float64\n",
            "Cabin          91 non-null object\n",
            "Embarked       418 non-null object\n",
            "dtypes: float64(2), int64(4), object(5)\n",
            "memory usage: 36.0+ KB\n"
          ],
          "name": "stdout"
        }
      ]
    },
    {
      "cell_type": "code",
      "metadata": {
        "id": "3jrYTNPA4vI2",
        "colab_type": "code",
        "colab": {}
      },
      "source": [
        "x_train = training_set.drop(['PassengerId','Name','Ticket','Survived'], axis=1)\n",
        "y_train = training_set['Survived']\n",
        "\n",
        "x_test = testing_set.drop(['PassengerId','Name','Ticket'], axis=1)"
      ],
      "execution_count": 0,
      "outputs": []
    },
    {
      "cell_type": "code",
      "metadata": {
        "id": "s7rCwEJD4vN2",
        "colab_type": "code",
        "colab": {}
      },
      "source": [
        "x_train['Age'] = x_train['Age'].fillna(x_train['Age'].mean())\n",
        "x_test['Age'] = x_test['Age'].fillna(x_test['Age'].mean())"
      ],
      "execution_count": 0,
      "outputs": []
    },
    {
      "cell_type": "markdown",
      "metadata": {
        "id": "AfoO3Qpn6qmX",
        "colab_type": "text"
      },
      "source": [
        "#Step 2 Cleanup and Transform the Data\n",
        "Transform all categorial values into numeric value for both Training and Testing data set"
      ]
    },
    {
      "cell_type": "code",
      "metadata": {
        "id": "MDFRcC4r7GX-",
        "colab_type": "code",
        "outputId": "dc95db69-c7c0-4de8-b93d-7713a6194ba8",
        "colab": {
          "base_uri": "https://localhost:8080/",
          "height": 54
        }
      },
      "source": [
        "k = list(x_train['Age'].value_counts().index)\n",
        "age = [ int(k[i]) for i in range(len(k))]\n",
        "print('Total Ages ' , len(set(age)) , set(age))"
      ],
      "execution_count": 0,
      "outputs": [
        {
          "output_type": "stream",
          "text": [
            "Total Ages  71 {0, 1, 2, 3, 4, 5, 6, 7, 8, 9, 10, 11, 12, 13, 14, 15, 16, 17, 18, 19, 20, 21, 22, 23, 24, 25, 26, 27, 28, 29, 30, 31, 32, 33, 34, 35, 36, 37, 38, 39, 40, 41, 42, 43, 44, 45, 46, 47, 48, 49, 50, 51, 52, 53, 54, 55, 56, 57, 58, 59, 60, 61, 62, 63, 64, 65, 66, 70, 71, 74, 80}\n"
          ],
          "name": "stdout"
        }
      ]
    },
    {
      "cell_type": "code",
      "metadata": {
        "id": "-45SUGAxj1rS",
        "colab_type": "code",
        "outputId": "3ace9672-550a-4e38-b0ef-af5a4a68413b",
        "colab": {
          "base_uri": "https://localhost:8080/",
          "height": 49
        }
      },
      "source": [
        "x_train[x_train['Age']<=0]"
      ],
      "execution_count": 0,
      "outputs": [
        {
          "output_type": "execute_result",
          "data": {
            "text/html": [
              "<div>\n",
              "<style scoped>\n",
              "    .dataframe tbody tr th:only-of-type {\n",
              "        vertical-align: middle;\n",
              "    }\n",
              "\n",
              "    .dataframe tbody tr th {\n",
              "        vertical-align: top;\n",
              "    }\n",
              "\n",
              "    .dataframe thead th {\n",
              "        text-align: right;\n",
              "    }\n",
              "</style>\n",
              "<table border=\"1\" class=\"dataframe\">\n",
              "  <thead>\n",
              "    <tr style=\"text-align: right;\">\n",
              "      <th></th>\n",
              "      <th>Pclass</th>\n",
              "      <th>Sex</th>\n",
              "      <th>Age</th>\n",
              "      <th>SibSp</th>\n",
              "      <th>Parch</th>\n",
              "      <th>Fare</th>\n",
              "      <th>Cabin</th>\n",
              "      <th>Embarked</th>\n",
              "    </tr>\n",
              "  </thead>\n",
              "  <tbody>\n",
              "  </tbody>\n",
              "</table>\n",
              "</div>"
            ],
            "text/plain": [
              "Empty DataFrame\n",
              "Columns: [Pclass, Sex, Age, SibSp, Parch, Fare, Cabin, Embarked]\n",
              "Index: []"
            ]
          },
          "metadata": {
            "tags": []
          },
          "execution_count": 24
        }
      ]
    },
    {
      "cell_type": "code",
      "metadata": {
        "id": "Q4FsUoGW7GSf",
        "colab_type": "code",
        "outputId": "a877af06-4b12-40be-e4e1-96f6d142315c",
        "colab": {
          "base_uri": "https://localhost:8080/",
          "height": 51
        }
      },
      "source": [
        "\n",
        "bins = (-1, 0, 5, 12, 18, 25, 35, 60, 120)\n",
        "group_names = ['Unknown', 'Baby', 'Child', 'Teenager', 'Student', 'Young Adult', 'Adult', 'Senior']\n",
        "# values like 0,1,2,3,4,5,6,7\n",
        "\n",
        "categories = pd.cut(x_train['Age'], bins, labels=group_names)\n",
        "print(set(categories.cat.codes.values))\n",
        "categories.cat.codes.index\n"
      ],
      "execution_count": 0,
      "outputs": [
        {
          "output_type": "stream",
          "text": [
            "{1, 2, 3, 4, 5, 6, 7}\n"
          ],
          "name": "stdout"
        },
        {
          "output_type": "execute_result",
          "data": {
            "text/plain": [
              "RangeIndex(start=0, stop=891, step=1)"
            ]
          },
          "metadata": {
            "tags": []
          },
          "execution_count": 23
        }
      ]
    },
    {
      "cell_type": "code",
      "metadata": {
        "id": "gblwyrUMlZOK",
        "colab_type": "code",
        "outputId": "2a5d1bb2-792e-48bf-9c67-7db2daecd46e",
        "colab": {
          "base_uri": "https://localhost:8080/",
          "height": 187
        }
      },
      "source": [
        "k = list(x_train['Cabin'].value_counts().index)\n",
        "k[:10]"
      ],
      "execution_count": 0,
      "outputs": [
        {
          "output_type": "execute_result",
          "data": {
            "text/plain": [
              "['C23 C25 C27',\n",
              " 'G6',\n",
              " 'B96 B98',\n",
              " 'F33',\n",
              " 'D',\n",
              " 'C22 C26',\n",
              " 'F2',\n",
              " 'E101',\n",
              " 'D20',\n",
              " 'D36']"
            ]
          },
          "metadata": {
            "tags": []
          },
          "execution_count": 28
        }
      ]
    },
    {
      "cell_type": "code",
      "metadata": {
        "id": "XGSkIRPnl_hC",
        "colab_type": "code",
        "outputId": "72f55b37-a7c2-4b7d-c075-0581919c853a",
        "colab": {
          "base_uri": "https://localhost:8080/",
          "height": 34
        }
      },
      "source": [
        "x_train['Cabin'].isna().sum()"
      ],
      "execution_count": 0,
      "outputs": [
        {
          "output_type": "execute_result",
          "data": {
            "text/plain": [
              "687"
            ]
          },
          "metadata": {
            "tags": []
          },
          "execution_count": 32
        }
      ]
    },
    {
      "cell_type": "code",
      "metadata": {
        "id": "QpZcJ7gTl_aH",
        "colab_type": "code",
        "outputId": "f5497808-98ec-4a02-d851-a2037525a86a",
        "colab": {
          "base_uri": "https://localhost:8080/",
          "height": 51
        }
      },
      "source": [
        "df = x_train.copy()\n",
        "df['Cabin'] = df['Cabin'].fillna('N')\n",
        "print(df['Cabin'].isna().sum())\n",
        "\n",
        "df['Cabin'] = df['Cabin'].apply(lambda x: x[0])\n",
        "print(set(df['Cabin'].values))    #Take only first character from the cabin name"
      ],
      "execution_count": 0,
      "outputs": [
        {
          "output_type": "stream",
          "text": [
            "0\n",
            "{'B', 'C', 'G', 'F', 'T', 'E', 'D', 'A', 'N'}\n"
          ],
          "name": "stdout"
        }
      ]
    },
    {
      "cell_type": "code",
      "metadata": {
        "id": "yXyCz2san0zk",
        "colab_type": "code",
        "outputId": "b93ed6ee-878d-47f1-9537-75da6960501f",
        "colab": {
          "base_uri": "https://localhost:8080/",
          "height": 68
        }
      },
      "source": [
        "df['Cabin'] = pd.Categorical(df['Cabin'])\n",
        "pd.Categorical(df['Cabin'])"
      ],
      "execution_count": 0,
      "outputs": [
        {
          "output_type": "execute_result",
          "data": {
            "text/plain": [
              "[N, C, N, C, N, ..., N, B, N, C, N]\n",
              "Length: 891\n",
              "Categories (9, object): [A, B, C, D, ..., F, G, N, T]"
            ]
          },
          "metadata": {
            "tags": []
          },
          "execution_count": 48
        }
      ]
    },
    {
      "cell_type": "code",
      "metadata": {
        "id": "0DfoxX3Sm_QQ",
        "colab_type": "code",
        "colab": {}
      },
      "source": [
        "df['Cabin'] = df['Cabin'].cat.codes "
      ],
      "execution_count": 0,
      "outputs": []
    },
    {
      "cell_type": "code",
      "metadata": {
        "id": "S8OV9lzYpQTk",
        "colab_type": "code",
        "outputId": "06fae19c-0e78-4915-b46b-297754239f4e",
        "colab": {
          "base_uri": "https://localhost:8080/",
          "height": 119
        }
      },
      "source": [
        "x_train['Cabin'].head()"
      ],
      "execution_count": 0,
      "outputs": [
        {
          "output_type": "execute_result",
          "data": {
            "text/plain": [
              "0     NaN\n",
              "1     C85\n",
              "2     NaN\n",
              "3    C123\n",
              "4     NaN\n",
              "Name: Cabin, dtype: object"
            ]
          },
          "metadata": {
            "tags": []
          },
          "execution_count": 53
        }
      ]
    },
    {
      "cell_type": "code",
      "metadata": {
        "id": "eL3mkakRm_Mj",
        "colab_type": "code",
        "outputId": "bf0395c4-1cd4-4f51-f30d-a4d32aa9505c",
        "colab": {
          "base_uri": "https://localhost:8080/",
          "height": 119
        }
      },
      "source": [
        "df['Cabin'].head()"
      ],
      "execution_count": 0,
      "outputs": [
        {
          "output_type": "execute_result",
          "data": {
            "text/plain": [
              "0    7\n",
              "1    2\n",
              "2    7\n",
              "3    2\n",
              "4    7\n",
              "Name: Cabin, dtype: int8"
            ]
          },
          "metadata": {
            "tags": []
          },
          "execution_count": 51
        }
      ]
    },
    {
      "cell_type": "code",
      "metadata": {
        "id": "w0yj4AFsqA5o",
        "colab_type": "code",
        "outputId": "c86458f5-021a-40ae-d20d-63c6ec957088",
        "colab": {
          "base_uri": "https://localhost:8080/",
          "height": 71
        }
      },
      "source": [
        "print('Total expected Fares : ' , len(set(df['Fare'].value_counts().index))  , '   -->   ' , set(df['Fare'].value_counts().index))\n",
        "df['Fare'] = df.Fare.fillna(-0.5)\n",
        "bins = (-1, 0, 8, 15, 31, 1000)    # values are 0,1,2,3,4\n",
        "group_names = ['Unknown', '1_quartile', '2_quartile', '3_quartile', '4_quartile']\n",
        "categories = pd.cut(df['Fare'], bins, labels=group_names)\n",
        "print(set(categories.cat.codes.values) )   # In which block(of bins) value falls"
      ],
      "execution_count": 0,
      "outputs": [
        {
          "output_type": "stream",
          "text": [
            "Total expected Fares :  248    -->    {0.0, 512.3292, 4.0125, 5.0, 6.75, 7.25, 7.225, 7.75, 8.05, 7.8958, 10.5, 7.925, 7.775, 13.0, 7.2292, 8.6625, 16.1, 15.5, 14.5, 14.4542, 21.0, 15.2458, 24.15, 21.075, 26.2875, 26.55, 26.0, 27.9, 26.25, 30.0, 31.275, 27.7208, 30.5, 29.125, 34.375, 7.7958, 35.5, 7.7333, 39.6875, 39.0, 7.125, 41.5792, 7.8292, 36.75, 9.5, 46.9, 9.0, 49.5042, 8.5167, 51.8625, 52.0, 53.1, 52.5542, 55.9, 56.4958, 11.5, 56.9292, 57.0, 55.0, 57.9792, 12.0, 63.3583, 12.875, 65.0, 13.5, 66.6, 59.4, 69.55, 69.3, 71.0, 71.2833, 73.5, 14.0, 75.25, 76.7292, 77.9583, 78.2667, 79.2, 79.65, 80.0, 77.2875, 83.1583, 83.475, 78.85, 86.5, 82.1708, 16.0, 89.1042, 90.0, 18.75, 18.0, 18.7875, 93.5, 91.0792, 19.2583, 19.5, 7.8542, 20.525, 20.25, 20.2125, 7.7292, 106.425, 21.6792, 108.9, 13.8583, 110.8833, 22.3583, 22.025, 113.275, 22.525, 23.0, 23.25, 120.0, 24.0, 25.9292, 25.5875, 14.1083, 133.65, 134.5, 135.6333, 27.75, 27.0, 8.6833, 28.5, 28.7125, 29.0, 146.5208, 151.55, 30.6958, 153.4625, 30.0708, 31.0, 15.0458, 6.4375, 32.5, 32.3208, 7.65, 164.8667, 33.0, 33.5, 8.7125, 10.1708, 34.0208, 34.6542, 9.5875, 9.8375, 35.0, 10.4625, 7.875, 7.3125, 11.1333, 37.0042, 12.525, 12.65, 12.275, 38.5, 8.6542, 13.7917, 13.4167, 39.6, 39.4, 14.4, 40.125, 15.9, 211.3375, 42.4, 211.5, 221.7792, 6.2375, 17.4, 227.525, 7.05, 7.8792, 7.55, 7.7375, 7.8, 7.6292, 8.3, 8.3625, 47.1, 247.5208, 49.5, 50.0, 50.4958, 51.4792, 262.375, 263.0, 55.4417, 8.4042, 8.1583, 8.0292, 8.1375, 8.1125, 9.825, 9.8458, 9.2167, 8.4333, 9.4833, 61.9792, 61.175, 61.3792, 9.8417, 13.8625, 15.05, 15.55, 16.7, 17.8, 6.4958, 19.9667, 6.45, 6.95, 7.4958, 20.575, 7.8875, 23.45, 15.0, 25.4667, 76.2917, 15.75, 25.925, 26.2833, 26.3875, 29.7, 7.1417, 81.8583, 31.3875, 6.975, 7.0542, 7.725, 7.7417, 7.7875, 8.85, 8.4583, 9.225, 9.35, 9.475, 11.2417, 6.8583, 12.475, 12.35, 12.2875, 14.4583, 15.85, 15.7417, 15.1, 7.0458, 10.5167, 7.5208}\n",
            "{0, 1, 2, 3, 4}\n"
          ],
          "name": "stdout"
        }
      ]
    },
    {
      "cell_type": "code",
      "metadata": {
        "id": "TFVn9WoWrw3s",
        "colab_type": "code",
        "outputId": "3fb0a017-6dcf-4bd8-94cc-1cef0dc4727b",
        "colab": {
          "base_uri": "https://localhost:8080/",
          "height": 34
        }
      },
      "source": [
        "print('Total genders : ' , len(set(df['Sex'].value_counts().index))  , '   -->   ' , set(df['Sex'].value_counts().index))"
      ],
      "execution_count": 0,
      "outputs": [
        {
          "output_type": "stream",
          "text": [
            "Total genders :  2    -->    {'female', 'male'}\n"
          ],
          "name": "stdout"
        }
      ]
    },
    {
      "cell_type": "code",
      "metadata": {
        "id": "_LJwgDI_pllZ",
        "colab_type": "code",
        "outputId": "f67c470e-649b-480a-f62e-f0f15e889fc4",
        "colab": {
          "base_uri": "https://localhost:8080/",
          "height": 34
        }
      },
      "source": [
        "df['Sex'] = pd.Categorical(df['Sex'])\n",
        "print(set(df['Sex'].cat.codes.values))"
      ],
      "execution_count": 0,
      "outputs": [
        {
          "output_type": "stream",
          "text": [
            "{0, 1}\n"
          ],
          "name": "stdout"
        }
      ]
    },
    {
      "cell_type": "code",
      "metadata": {
        "id": "PflKWQLjtM4U",
        "colab_type": "code",
        "outputId": "5bae9bbf-0bad-4018-9309-c58da6c7ab34",
        "colab": {
          "base_uri": "https://localhost:8080/",
          "height": 34
        }
      },
      "source": [
        "print('Total Embarked : ' , len(set(df['Embarked'].value_counts().index))  , '   -->   ' , set(df['Embarked'].value_counts().index))"
      ],
      "execution_count": 0,
      "outputs": [
        {
          "output_type": "stream",
          "text": [
            "Total Embarked :  3    -->    {'S', 'C', 'Q'}\n"
          ],
          "name": "stdout"
        }
      ]
    },
    {
      "cell_type": "code",
      "metadata": {
        "id": "J-VIPGowq12F",
        "colab_type": "code",
        "outputId": "d37afb5f-0b01-4541-d219-6faace4d4584",
        "colab": {
          "base_uri": "https://localhost:8080/",
          "height": 85
        }
      },
      "source": [
        "df['Embarked'] = pd.Categorical(df['Embarked'])\n",
        "print(pd.Categorical(df['Embarked']))\n",
        "print(set((df['Embarked'].cat.codes + 1).values))"
      ],
      "execution_count": 0,
      "outputs": [
        {
          "output_type": "stream",
          "text": [
            "[S, C, S, S, S, ..., S, S, S, C, Q]\n",
            "Length: 891\n",
            "Categories (3, object): [C, Q, S]\n",
            "{0, 1, 2, 3}\n"
          ],
          "name": "stdout"
        }
      ]
    },
    {
      "cell_type": "markdown",
      "metadata": {
        "id": "gUIIkDN0uusV",
        "colab_type": "text"
      },
      "source": [
        "###Final (all together)"
      ]
    },
    {
      "cell_type": "code",
      "metadata": {
        "id": "ZpHKeYnP4vQv",
        "colab_type": "code",
        "colab": {}
      },
      "source": [
        "def simplify_ages(df):\n",
        "    #df['Age'] = df['Age'].fillna(-0.5)\n",
        "    bins = (-1, 0, 5, 12, 18, 25, 35, 60, 120)\n",
        "    group_names = ['Unknown', 'Baby', 'Child', 'Teenager', 'Student', 'Young Adult', 'Adult', 'Senior']\n",
        "    categories = pd.cut(df['Age'], bins, labels=group_names)\n",
        "    df['Age'] = categories.cat.codes \n",
        "    return df\n",
        "\n",
        "def simplify_cabins(df):\n",
        "    df['Cabin'] = df['Cabin'].fillna('N')\n",
        "    df['Cabin'] = df['Cabin'].apply(lambda x: x[0])\n",
        "    df['Cabin'] =  pd.Categorical(df['Cabin'])\n",
        "    df['Cabin'] = df['Cabin'].cat.codes \n",
        "    return df\n",
        "\n",
        "def simplify_fares(df):\n",
        "    df['Fare'] = df.Fare.fillna(-0.5)\n",
        "    bins = (-1, 0, 8, 15, 31, 1000)\n",
        "    group_names = ['Unknown', '1_quartile', '2_quartile', '3_quartile', '4_quartile']\n",
        "    categories = pd.cut(df['Fare'], bins, labels=group_names)\n",
        "    df['Fare'] = categories.cat.codes \n",
        "    return df\n",
        "\n",
        "def simplify_sex(df):\n",
        "    df['Sex'] = pd.Categorical(df['Sex'])\n",
        "    df['Sex'] = df['Sex'].cat.codes \n",
        "    return df\n",
        "\n",
        "def simplify_embarked(df):\n",
        "    df['Embarked'] = pd.Categorical(df['Embarked'])\n",
        "    df['Embarked'] = df['Embarked'].cat.codes + 1\n",
        "    return df\n",
        "\n",
        "def transform_feature(df):\n",
        "    df = simplify_ages(df)\n",
        "    df = simplify_cabins(df)\n",
        "    df = simplify_fares(df)\n",
        "    df = simplify_sex(df)\n",
        "    df = simplify_embarked(df)\n",
        "    return df"
      ],
      "execution_count": 0,
      "outputs": []
    },
    {
      "cell_type": "code",
      "metadata": {
        "id": "hJo_QHRU4vf2",
        "colab_type": "code",
        "outputId": "152eb876-fb1e-4ce7-8ba4-af7d047b72a7",
        "colab": {
          "base_uri": "https://localhost:8080/",
          "height": 204
        }
      },
      "source": [
        "transform_feature(x_train).head()"
      ],
      "execution_count": 0,
      "outputs": [
        {
          "output_type": "execute_result",
          "data": {
            "text/html": [
              "<div>\n",
              "<style scoped>\n",
              "    .dataframe tbody tr th:only-of-type {\n",
              "        vertical-align: middle;\n",
              "    }\n",
              "\n",
              "    .dataframe tbody tr th {\n",
              "        vertical-align: top;\n",
              "    }\n",
              "\n",
              "    .dataframe thead th {\n",
              "        text-align: right;\n",
              "    }\n",
              "</style>\n",
              "<table border=\"1\" class=\"dataframe\">\n",
              "  <thead>\n",
              "    <tr style=\"text-align: right;\">\n",
              "      <th></th>\n",
              "      <th>Pclass</th>\n",
              "      <th>Sex</th>\n",
              "      <th>Age</th>\n",
              "      <th>SibSp</th>\n",
              "      <th>Parch</th>\n",
              "      <th>Fare</th>\n",
              "      <th>Cabin</th>\n",
              "      <th>Embarked</th>\n",
              "    </tr>\n",
              "  </thead>\n",
              "  <tbody>\n",
              "    <tr>\n",
              "      <th>0</th>\n",
              "      <td>3</td>\n",
              "      <td>1</td>\n",
              "      <td>4</td>\n",
              "      <td>1</td>\n",
              "      <td>0</td>\n",
              "      <td>1</td>\n",
              "      <td>7</td>\n",
              "      <td>3</td>\n",
              "    </tr>\n",
              "    <tr>\n",
              "      <th>1</th>\n",
              "      <td>1</td>\n",
              "      <td>0</td>\n",
              "      <td>6</td>\n",
              "      <td>1</td>\n",
              "      <td>0</td>\n",
              "      <td>4</td>\n",
              "      <td>2</td>\n",
              "      <td>1</td>\n",
              "    </tr>\n",
              "    <tr>\n",
              "      <th>2</th>\n",
              "      <td>3</td>\n",
              "      <td>0</td>\n",
              "      <td>5</td>\n",
              "      <td>0</td>\n",
              "      <td>0</td>\n",
              "      <td>1</td>\n",
              "      <td>7</td>\n",
              "      <td>3</td>\n",
              "    </tr>\n",
              "    <tr>\n",
              "      <th>3</th>\n",
              "      <td>1</td>\n",
              "      <td>0</td>\n",
              "      <td>5</td>\n",
              "      <td>1</td>\n",
              "      <td>0</td>\n",
              "      <td>4</td>\n",
              "      <td>2</td>\n",
              "      <td>3</td>\n",
              "    </tr>\n",
              "    <tr>\n",
              "      <th>4</th>\n",
              "      <td>3</td>\n",
              "      <td>1</td>\n",
              "      <td>5</td>\n",
              "      <td>0</td>\n",
              "      <td>0</td>\n",
              "      <td>2</td>\n",
              "      <td>7</td>\n",
              "      <td>3</td>\n",
              "    </tr>\n",
              "  </tbody>\n",
              "</table>\n",
              "</div>"
            ],
            "text/plain": [
              "   Pclass  Sex  Age  SibSp  Parch  Fare  Cabin  Embarked\n",
              "0       3    1    4      1      0     1      7         3\n",
              "1       1    0    6      1      0     4      2         1\n",
              "2       3    0    5      0      0     1      7         3\n",
              "3       1    0    5      1      0     4      2         3\n",
              "4       3    1    5      0      0     2      7         3"
            ]
          },
          "metadata": {
            "tags": []
          },
          "execution_count": 9
        }
      ]
    },
    {
      "cell_type": "code",
      "metadata": {
        "id": "eyQTRjP-4vl3",
        "colab_type": "code",
        "outputId": "a3e0b48e-7831-46b9-e880-fa086e8dc388",
        "colab": {
          "base_uri": "https://localhost:8080/",
          "height": 204
        }
      },
      "source": [
        "transform_feature(x_test).head()"
      ],
      "execution_count": 0,
      "outputs": [
        {
          "output_type": "execute_result",
          "data": {
            "text/html": [
              "<div>\n",
              "<style scoped>\n",
              "    .dataframe tbody tr th:only-of-type {\n",
              "        vertical-align: middle;\n",
              "    }\n",
              "\n",
              "    .dataframe tbody tr th {\n",
              "        vertical-align: top;\n",
              "    }\n",
              "\n",
              "    .dataframe thead th {\n",
              "        text-align: right;\n",
              "    }\n",
              "</style>\n",
              "<table border=\"1\" class=\"dataframe\">\n",
              "  <thead>\n",
              "    <tr style=\"text-align: right;\">\n",
              "      <th></th>\n",
              "      <th>Pclass</th>\n",
              "      <th>Sex</th>\n",
              "      <th>Age</th>\n",
              "      <th>SibSp</th>\n",
              "      <th>Parch</th>\n",
              "      <th>Fare</th>\n",
              "      <th>Cabin</th>\n",
              "      <th>Embarked</th>\n",
              "    </tr>\n",
              "  </thead>\n",
              "  <tbody>\n",
              "    <tr>\n",
              "      <th>0</th>\n",
              "      <td>3</td>\n",
              "      <td>1</td>\n",
              "      <td>5</td>\n",
              "      <td>0</td>\n",
              "      <td>0</td>\n",
              "      <td>1</td>\n",
              "      <td>7</td>\n",
              "      <td>2</td>\n",
              "    </tr>\n",
              "    <tr>\n",
              "      <th>1</th>\n",
              "      <td>3</td>\n",
              "      <td>0</td>\n",
              "      <td>6</td>\n",
              "      <td>1</td>\n",
              "      <td>0</td>\n",
              "      <td>1</td>\n",
              "      <td>7</td>\n",
              "      <td>3</td>\n",
              "    </tr>\n",
              "    <tr>\n",
              "      <th>2</th>\n",
              "      <td>2</td>\n",
              "      <td>1</td>\n",
              "      <td>7</td>\n",
              "      <td>0</td>\n",
              "      <td>0</td>\n",
              "      <td>2</td>\n",
              "      <td>7</td>\n",
              "      <td>2</td>\n",
              "    </tr>\n",
              "    <tr>\n",
              "      <th>3</th>\n",
              "      <td>3</td>\n",
              "      <td>1</td>\n",
              "      <td>5</td>\n",
              "      <td>0</td>\n",
              "      <td>0</td>\n",
              "      <td>2</td>\n",
              "      <td>7</td>\n",
              "      <td>3</td>\n",
              "    </tr>\n",
              "    <tr>\n",
              "      <th>4</th>\n",
              "      <td>3</td>\n",
              "      <td>0</td>\n",
              "      <td>4</td>\n",
              "      <td>1</td>\n",
              "      <td>1</td>\n",
              "      <td>2</td>\n",
              "      <td>7</td>\n",
              "      <td>3</td>\n",
              "    </tr>\n",
              "  </tbody>\n",
              "</table>\n",
              "</div>"
            ],
            "text/plain": [
              "   Pclass  Sex  Age  SibSp  Parch  Fare  Cabin  Embarked\n",
              "0       3    1    5      0      0     1      7         2\n",
              "1       3    0    6      1      0     1      7         3\n",
              "2       2    1    7      0      0     2      7         2\n",
              "3       3    1    5      0      0     2      7         3\n",
              "4       3    0    4      1      1     2      7         3"
            ]
          },
          "metadata": {
            "tags": []
          },
          "execution_count": 11
        }
      ]
    },
    {
      "cell_type": "markdown",
      "metadata": {
        "id": "PDsY1E9Ov56Q",
        "colab_type": "text"
      },
      "source": [
        "#Step 3 Build the NN model using Keras\n",
        "Total 3 types of Layers,       \n",
        "first 2 layers  with 32 hidden value with \"Relu\" activation function      \n",
        "Last layer with Sigmoid activation function"
      ]
    },
    {
      "cell_type": "code",
      "metadata": {
        "id": "IIIPuUbj4vqi",
        "colab_type": "code",
        "outputId": "7d6527a1-c37a-4773-9efa-64dd51df3f84",
        "colab": {
          "base_uri": "https://localhost:8080/",
          "height": 88
        }
      },
      "source": [
        "#Create a keras model (to build the NN)\n",
        "model = models.Sequential()  \n",
        "\n",
        "model.add(layers.Dense(32, activation='relu',input_shape=(8,)))\n",
        "model.add(layers.Dense(32, activation='relu'))\n",
        "model.add(layers.Dense(16, activation='relu'))\n",
        "\n",
        "\n",
        "#model.add(layers.Dense(8, activation='relu'))\n",
        "model.add(layers.Dense(1, activation='sigmoid'))\n",
        "\n",
        "model.compile(optimizer=optimizers.RMSprop(lr=0.001),\n",
        "              loss=losses.binary_crossentropy,\n",
        "             metrics=[metrics.binary_accuracy])"
      ],
      "execution_count": 0,
      "outputs": [
        {
          "output_type": "stream",
          "text": [
            "WARNING:tensorflow:From /usr/local/lib/python3.6/dist-packages/tensorflow/python/framework/op_def_library.py:263: colocate_with (from tensorflow.python.framework.ops) is deprecated and will be removed in a future version.\n",
            "Instructions for updating:\n",
            "Colocations handled automatically by placer.\n"
          ],
          "name": "stdout"
        }
      ]
    },
    {
      "cell_type": "markdown",
      "metadata": {
        "id": "_TGeh732whc2",
        "colab_type": "text"
      },
      "source": [
        "##Step 3.1 \n",
        " Split the training data set with validation set, and run the model    \n",
        "Default validation set size is 50"
      ]
    },
    {
      "cell_type": "code",
      "metadata": {
        "id": "UgLAUYcm4vuK",
        "colab_type": "code",
        "colab": {}
      },
      "source": [
        "y_train = np.asarray(y_train)\n",
        "x_train = np.asarray(x_train)\n",
        "x_test = np.asarray(x_test)\n",
        "\n",
        "validation_size = 200\n",
        "\n",
        "x_val = x_train[ : validation_size]            #X_validation set\n",
        "partial_x_train = x_train[validation_size:]  # remaining data as traning\n",
        "\n",
        "y_val = y_train[:validation_size]             #Y_validation set\n",
        "partial_y_train = y_train[validation_size:]   # remaining data as traning"
      ],
      "execution_count": 0,
      "outputs": []
    },
    {
      "cell_type": "code",
      "metadata": {
        "id": "cIhTJdKC4vz6",
        "colab_type": "code",
        "outputId": "98f8ec84-2fbd-49c1-848e-05ac81ca650d",
        "colab": {
          "base_uri": "https://localhost:8080/",
          "height": 1125
        }
      },
      "source": [
        "#fit or train the model\n",
        "history = model.fit(partial_x_train, \n",
        "                    partial_y_train, \n",
        "                    epochs=30, \n",
        "                    validation_data=(x_val, y_val))"
      ],
      "execution_count": 0,
      "outputs": [
        {
          "output_type": "stream",
          "text": [
            "WARNING:tensorflow:From /usr/local/lib/python3.6/dist-packages/tensorflow/python/ops/math_ops.py:3066: to_int32 (from tensorflow.python.ops.math_ops) is deprecated and will be removed in a future version.\n",
            "Instructions for updating:\n",
            "Use tf.cast instead.\n",
            "Train on 691 samples, validate on 200 samples\n",
            "Epoch 1/30\n",
            "691/691 [==============================] - 3s 4ms/step - loss: 0.6490 - binary_accuracy: 0.6237 - val_loss: 0.6303 - val_binary_accuracy: 0.6450\n",
            "Epoch 2/30\n",
            "691/691 [==============================] - 0s 122us/step - loss: 0.5822 - binary_accuracy: 0.7077 - val_loss: 0.6227 - val_binary_accuracy: 0.6550\n",
            "Epoch 3/30\n",
            "691/691 [==============================] - 0s 130us/step - loss: 0.5529 - binary_accuracy: 0.7207 - val_loss: 0.6232 - val_binary_accuracy: 0.6400\n",
            "Epoch 4/30\n",
            "691/691 [==============================] - 0s 125us/step - loss: 0.5323 - binary_accuracy: 0.7323 - val_loss: 0.6065 - val_binary_accuracy: 0.6400\n",
            "Epoch 5/30\n",
            "691/691 [==============================] - 0s 141us/step - loss: 0.5182 - binary_accuracy: 0.7337 - val_loss: 0.6083 - val_binary_accuracy: 0.6450\n",
            "Epoch 6/30\n",
            "691/691 [==============================] - 0s 124us/step - loss: 0.5030 - binary_accuracy: 0.7540 - val_loss: 0.5878 - val_binary_accuracy: 0.6600\n",
            "Epoch 7/30\n",
            "691/691 [==============================] - 0s 122us/step - loss: 0.4922 - binary_accuracy: 0.7482 - val_loss: 0.5682 - val_binary_accuracy: 0.6700\n",
            "Epoch 8/30\n",
            "691/691 [==============================] - 0s 129us/step - loss: 0.4805 - binary_accuracy: 0.7511 - val_loss: 0.5487 - val_binary_accuracy: 0.6750\n",
            "Epoch 9/30\n",
            "691/691 [==============================] - 0s 126us/step - loss: 0.4694 - binary_accuracy: 0.7612 - val_loss: 0.5446 - val_binary_accuracy: 0.7050\n",
            "Epoch 10/30\n",
            "691/691 [==============================] - 0s 130us/step - loss: 0.4622 - binary_accuracy: 0.7771 - val_loss: 0.5341 - val_binary_accuracy: 0.6850\n",
            "Epoch 11/30\n",
            "691/691 [==============================] - 0s 109us/step - loss: 0.4564 - binary_accuracy: 0.7815 - val_loss: 0.5192 - val_binary_accuracy: 0.6950\n",
            "Epoch 12/30\n",
            "691/691 [==============================] - 0s 112us/step - loss: 0.4466 - binary_accuracy: 0.7902 - val_loss: 0.5110 - val_binary_accuracy: 0.7400\n",
            "Epoch 13/30\n",
            "691/691 [==============================] - 0s 111us/step - loss: 0.4386 - binary_accuracy: 0.7959 - val_loss: 0.5038 - val_binary_accuracy: 0.7050\n",
            "Epoch 14/30\n",
            "691/691 [==============================] - 0s 116us/step - loss: 0.4353 - binary_accuracy: 0.7887 - val_loss: 0.5228 - val_binary_accuracy: 0.7300\n",
            "Epoch 15/30\n",
            "691/691 [==============================] - 0s 111us/step - loss: 0.4260 - binary_accuracy: 0.7988 - val_loss: 0.4838 - val_binary_accuracy: 0.7500\n",
            "Epoch 16/30\n",
            "691/691 [==============================] - 0s 114us/step - loss: 0.4233 - binary_accuracy: 0.7974 - val_loss: 0.5041 - val_binary_accuracy: 0.7400\n",
            "Epoch 17/30\n",
            "691/691 [==============================] - 0s 128us/step - loss: 0.4153 - binary_accuracy: 0.8017 - val_loss: 0.5000 - val_binary_accuracy: 0.7300\n",
            "Epoch 18/30\n",
            "691/691 [==============================] - 0s 109us/step - loss: 0.4180 - binary_accuracy: 0.8032 - val_loss: 0.5241 - val_binary_accuracy: 0.7350\n",
            "Epoch 19/30\n",
            "691/691 [==============================] - 0s 111us/step - loss: 0.4110 - binary_accuracy: 0.7959 - val_loss: 0.4639 - val_binary_accuracy: 0.7900\n",
            "Epoch 20/30\n",
            "691/691 [==============================] - 0s 111us/step - loss: 0.4115 - binary_accuracy: 0.8032 - val_loss: 0.4804 - val_binary_accuracy: 0.7500\n",
            "Epoch 21/30\n",
            "691/691 [==============================] - 0s 114us/step - loss: 0.4118 - binary_accuracy: 0.8046 - val_loss: 0.4664 - val_binary_accuracy: 0.7950\n",
            "Epoch 22/30\n",
            "691/691 [==============================] - 0s 109us/step - loss: 0.4074 - binary_accuracy: 0.8075 - val_loss: 0.4856 - val_binary_accuracy: 0.7600\n",
            "Epoch 23/30\n",
            "691/691 [==============================] - 0s 115us/step - loss: 0.4060 - binary_accuracy: 0.8119 - val_loss: 0.4664 - val_binary_accuracy: 0.7650\n",
            "Epoch 24/30\n",
            "691/691 [==============================] - 0s 111us/step - loss: 0.4087 - binary_accuracy: 0.8032 - val_loss: 0.4815 - val_binary_accuracy: 0.7600\n",
            "Epoch 25/30\n",
            "691/691 [==============================] - 0s 109us/step - loss: 0.4056 - binary_accuracy: 0.8032 - val_loss: 0.4713 - val_binary_accuracy: 0.7750\n",
            "Epoch 26/30\n",
            "691/691 [==============================] - 0s 118us/step - loss: 0.4003 - binary_accuracy: 0.8104 - val_loss: 0.4715 - val_binary_accuracy: 0.7850\n",
            "Epoch 27/30\n",
            "691/691 [==============================] - 0s 116us/step - loss: 0.4024 - binary_accuracy: 0.8162 - val_loss: 0.4672 - val_binary_accuracy: 0.7800\n",
            "Epoch 28/30\n",
            "691/691 [==============================] - 0s 116us/step - loss: 0.4042 - binary_accuracy: 0.8075 - val_loss: 0.4694 - val_binary_accuracy: 0.7750\n",
            "Epoch 29/30\n",
            "691/691 [==============================] - 0s 117us/step - loss: 0.3998 - binary_accuracy: 0.8191 - val_loss: 0.4702 - val_binary_accuracy: 0.7800\n",
            "Epoch 30/30\n",
            "691/691 [==============================] - 0s 131us/step - loss: 0.4015 - binary_accuracy: 0.8090 - val_loss: 0.4655 - val_binary_accuracy: 0.7850\n"
          ],
          "name": "stdout"
        }
      ]
    },
    {
      "cell_type": "markdown",
      "metadata": {
        "id": "QrqTDqOgxYSY",
        "colab_type": "text"
      },
      "source": [
        "##Step 3.2    \n",
        "Plot accuracy and loss for both training and validation set, to check the model optimization level"
      ]
    },
    {
      "cell_type": "code",
      "metadata": {
        "id": "Rl7oLic4xenZ",
        "colab_type": "code",
        "outputId": "c63c21d7-6e9c-4e58-a8f1-c747afe766a4",
        "colab": {
          "base_uri": "https://localhost:8080/",
          "height": 119
        }
      },
      "source": [
        "#Training set accuracy\n",
        "print(len(history.history['binary_accuracy']))   #30 Epochs \n",
        "history.history['binary_accuracy'][:5]"
      ],
      "execution_count": 0,
      "outputs": [
        {
          "output_type": "stream",
          "text": [
            "30\n"
          ],
          "name": "stdout"
        },
        {
          "output_type": "execute_result",
          "data": {
            "text/plain": [
              "[0.6237337191180796,\n",
              " 0.7076700427252718,\n",
              " 0.7206946457864234,\n",
              " 0.7322720699820954,\n",
              " 0.7337192467773702]"
            ]
          },
          "metadata": {
            "tags": []
          },
          "execution_count": 16
        }
      ]
    },
    {
      "cell_type": "code",
      "metadata": {
        "id": "lHtA9HK1x5EU",
        "colab_type": "code",
        "outputId": "9acc98be-2e02-428a-92e6-8163ef4c3090",
        "colab": {
          "base_uri": "https://localhost:8080/",
          "height": 119
        }
      },
      "source": [
        "##Training set loss\n",
        "print(len(history.history['loss']))    #30 Epochs\n",
        "history.history['loss'][:5]"
      ],
      "execution_count": 0,
      "outputs": [
        {
          "output_type": "stream",
          "text": [
            "30\n"
          ],
          "name": "stdout"
        },
        {
          "output_type": "execute_result",
          "data": {
            "text/plain": [
              "[0.6490299786224034,\n",
              " 0.5821805470414169,\n",
              " 0.5528884890628103,\n",
              " 0.532302682634373,\n",
              " 0.518181156146026]"
            ]
          },
          "metadata": {
            "tags": []
          },
          "execution_count": 18
        }
      ]
    },
    {
      "cell_type": "code",
      "metadata": {
        "id": "tWGiEky5xr8p",
        "colab_type": "code",
        "outputId": "acda247d-239c-48ca-e98b-581b5eea0b33",
        "colab": {
          "base_uri": "https://localhost:8080/",
          "height": 51
        }
      },
      "source": [
        "#Validation set accuracy\n",
        "print(len(history.history['val_binary_accuracy']))  #30 Epochs\n",
        "history.history['val_binary_accuracy'][:5]"
      ],
      "execution_count": 0,
      "outputs": [
        {
          "output_type": "stream",
          "text": [
            "30\n"
          ],
          "name": "stdout"
        },
        {
          "output_type": "execute_result",
          "data": {
            "text/plain": [
              "[0.645, 0.655, 0.64, 0.64, 0.645]"
            ]
          },
          "metadata": {
            "tags": []
          },
          "execution_count": 17
        }
      ]
    },
    {
      "cell_type": "code",
      "metadata": {
        "id": "4rQU1kf2xz1q",
        "colab_type": "code",
        "outputId": "1cb2bde3-0de0-42e8-846a-fe4e7b6f024b",
        "colab": {
          "base_uri": "https://localhost:8080/",
          "height": 119
        }
      },
      "source": [
        "#Validation set loss\n",
        "print(len(history.history['val_loss']))    #30 Epochs\n",
        "history.history['val_loss'][:5]"
      ],
      "execution_count": 0,
      "outputs": [
        {
          "output_type": "stream",
          "text": [
            "30\n"
          ],
          "name": "stdout"
        },
        {
          "output_type": "execute_result",
          "data": {
            "text/plain": [
              "[0.6302623701095581,\n",
              " 0.6227462673187256,\n",
              " 0.6231590270996094,\n",
              " 0.6065428733825684,\n",
              " 0.6082676219940185]"
            ]
          },
          "metadata": {
            "tags": []
          },
          "execution_count": 20
        }
      ]
    },
    {
      "cell_type": "code",
      "metadata": {
        "id": "H72fO9CK4v5X",
        "colab_type": "code",
        "outputId": "f5712885-8969-4c17-da07-e91e7b96518e",
        "colab": {
          "base_uri": "https://localhost:8080/",
          "height": 283
        }
      },
      "source": [
        "acc = history.history['binary_accuracy']\n",
        "val_acc = history.history['val_binary_accuracy']\n",
        "loss = history.history['loss']\n",
        "val_loss = history.history['val_loss']\n",
        "\n",
        "epochs = range(1, len(acc) + 1)   #30 Epochs\n",
        "\n",
        "plt.plot(epochs, loss, 'go', label='Training loss')\n",
        "plt.plot(epochs, val_loss,'r', label='Validation loss')\n",
        "\n",
        "plt.legend()\n",
        "plt.xlabel('Epochs')\n",
        "plt.ylabel('Loss')\n",
        "plt.show()"
      ],
      "execution_count": 0,
      "outputs": [
        {
          "output_type": "display_data",
          "data": {
            "image/png": "[encoded data removed]",
            "text/plain": [
              "<Figure size 432x288 with 1 Axes>"
            ]
          },
          "metadata": {
            "tags": []
          }
        }
      ]
    },
    {
      "cell_type": "code",
      "metadata": {
        "id": "U2YJJJnT4wKR",
        "colab_type": "code",
        "outputId": "3971b704-3c72-4780-d789-1a601fd6ee24",
        "colab": {
          "base_uri": "https://localhost:8080/",
          "height": 283
        }
      },
      "source": [
        "plt.clf()   #Make classifier\n",
        "\n",
        "epochs = range(1, len(acc) + 1)\n",
        "\n",
        "plt.plot(epochs, acc, 'go', label='Training Acc')\n",
        "plt.plot(epochs, val_acc,'r', label='Validation Acc')\n",
        "plt.legend()\n",
        "plt.xlabel('Epochs')\n",
        "plt.ylabel('Acc')\n",
        "plt.show()"
      ],
      "execution_count": 0,
      "outputs": [
        {
          "output_type": "display_data",
          "data": {
            "image/png": "[encoded data removed]",
            "text/plain": [
              "<Figure size 432x288 with 1 Axes>"
            ]
          },
          "metadata": {
            "tags": []
          }
        }
      ]
    },
    {
      "cell_type": "markdown",
      "metadata": {
        "id": "ReryJivyzoxs",
        "colab_type": "text"
      },
      "source": [
        "##Step 4    Optimization       \n",
        "Repeat Step 3 multiple times till we find best model for this dataset.      \n",
        "Example:   \n",
        "1. Will adding more hidden units or additional hidden layer help?     \n",
        "2. what if I change my activation function?        \n",
        "3. increase/decrease my learning rate?       \n",
        "4. Will increase number of Epochs help?       "
      ]
    },
    {
      "cell_type": "markdown",
      "metadata": {
        "id": "cBlU64Lq0pyi",
        "colab_type": "text"
      },
      "source": [
        "#Step 5 Predict the actual Test Data"
      ]
    },
    {
      "cell_type": "code",
      "metadata": {
        "id": "KyFy1w0w0UyK",
        "colab_type": "code",
        "outputId": "131417e7-4035-4533-b540-2fa82e6b0155",
        "colab": {
          "base_uri": "https://localhost:8080/",
          "height": 204
        }
      },
      "source": [
        "ids = testing_set['PassengerId'].copy()\n",
        "ids.to_frame().head()"
      ],
      "execution_count": 0,
      "outputs": [
        {
          "output_type": "execute_result",
          "data": {
            "text/html": [
              "<div>\n",
              "<style scoped>\n",
              "    .dataframe tbody tr th:only-of-type {\n",
              "        vertical-align: middle;\n",
              "    }\n",
              "\n",
              "    .dataframe tbody tr th {\n",
              "        vertical-align: top;\n",
              "    }\n",
              "\n",
              "    .dataframe thead th {\n",
              "        text-align: right;\n",
              "    }\n",
              "</style>\n",
              "<table border=\"1\" class=\"dataframe\">\n",
              "  <thead>\n",
              "    <tr style=\"text-align: right;\">\n",
              "      <th></th>\n",
              "      <th>PassengerId</th>\n",
              "    </tr>\n",
              "  </thead>\n",
              "  <tbody>\n",
              "    <tr>\n",
              "      <th>0</th>\n",
              "      <td>892</td>\n",
              "    </tr>\n",
              "    <tr>\n",
              "      <th>1</th>\n",
              "      <td>893</td>\n",
              "    </tr>\n",
              "    <tr>\n",
              "      <th>2</th>\n",
              "      <td>894</td>\n",
              "    </tr>\n",
              "    <tr>\n",
              "      <th>3</th>\n",
              "      <td>895</td>\n",
              "    </tr>\n",
              "    <tr>\n",
              "      <th>4</th>\n",
              "      <td>896</td>\n",
              "    </tr>\n",
              "  </tbody>\n",
              "</table>\n",
              "</div>"
            ],
            "text/plain": [
              "   PassengerId\n",
              "0          892\n",
              "1          893\n",
              "2          894\n",
              "3          895\n",
              "4          896"
            ]
          },
          "metadata": {
            "tags": []
          },
          "execution_count": 25
        }
      ]
    },
    {
      "cell_type": "code",
      "metadata": {
        "id": "GY4mPvgr4wIX",
        "colab_type": "code",
        "outputId": "ec06af15-75bd-47c9-cf70-8ac77eab7110",
        "colab": {
          "base_uri": "https://localhost:8080/",
          "height": 359
        }
      },
      "source": [
        "predictions = model.predict_classes(x_test)\n",
        "\n",
        "ids = testing_set['PassengerId'].copy()\n",
        "new_output = ids.to_frame()\n",
        "\n",
        "new_output[\"Survived\"]=predictions\n",
        "new_output.head(10)"
      ],
      "execution_count": 0,
      "outputs": [
        {
          "output_type": "execute_result",
          "data": {
            "text/html": [
              "<div>\n",
              "<style scoped>\n",
              "    .dataframe tbody tr th:only-of-type {\n",
              "        vertical-align: middle;\n",
              "    }\n",
              "\n",
              "    .dataframe tbody tr th {\n",
              "        vertical-align: top;\n",
              "    }\n",
              "\n",
              "    .dataframe thead th {\n",
              "        text-align: right;\n",
              "    }\n",
              "</style>\n",
              "<table border=\"1\" class=\"dataframe\">\n",
              "  <thead>\n",
              "    <tr style=\"text-align: right;\">\n",
              "      <th></th>\n",
              "      <th>PassengerId</th>\n",
              "      <th>Survived</th>\n",
              "    </tr>\n",
              "  </thead>\n",
              "  <tbody>\n",
              "    <tr>\n",
              "      <th>0</th>\n",
              "      <td>892</td>\n",
              "      <td>0</td>\n",
              "    </tr>\n",
              "    <tr>\n",
              "      <th>1</th>\n",
              "      <td>893</td>\n",
              "      <td>0</td>\n",
              "    </tr>\n",
              "    <tr>\n",
              "      <th>2</th>\n",
              "      <td>894</td>\n",
              "      <td>0</td>\n",
              "    </tr>\n",
              "    <tr>\n",
              "      <th>3</th>\n",
              "      <td>895</td>\n",
              "      <td>0</td>\n",
              "    </tr>\n",
              "    <tr>\n",
              "      <th>4</th>\n",
              "      <td>896</td>\n",
              "      <td>0</td>\n",
              "    </tr>\n",
              "    <tr>\n",
              "      <th>5</th>\n",
              "      <td>897</td>\n",
              "      <td>0</td>\n",
              "    </tr>\n",
              "    <tr>\n",
              "      <th>6</th>\n",
              "      <td>898</td>\n",
              "      <td>0</td>\n",
              "    </tr>\n",
              "    <tr>\n",
              "      <th>7</th>\n",
              "      <td>899</td>\n",
              "      <td>0</td>\n",
              "    </tr>\n",
              "    <tr>\n",
              "      <th>8</th>\n",
              "      <td>900</td>\n",
              "      <td>1</td>\n",
              "    </tr>\n",
              "    <tr>\n",
              "      <th>9</th>\n",
              "      <td>901</td>\n",
              "      <td>0</td>\n",
              "    </tr>\n",
              "  </tbody>\n",
              "</table>\n",
              "</div>"
            ],
            "text/plain": [
              "   PassengerId  Survived\n",
              "0          892         0\n",
              "1          893         0\n",
              "2          894         0\n",
              "3          895         0\n",
              "4          896         0\n",
              "5          897         0\n",
              "6          898         0\n",
              "7          899         0\n",
              "8          900         1\n",
              "9          901         0"
            ]
          },
          "metadata": {
            "tags": []
          },
          "execution_count": 26
        }
      ]
    },
    {
      "cell_type": "code",
      "metadata": {
        "id": "0u5e_Gb64wG6",
        "colab_type": "code",
        "colab": {}
      },
      "source": [
        "new_output.to_csv(\"my_submission.csv\",index=False)"
      ],
      "execution_count": 0,
      "outputs": []
    },
    {
      "cell_type": "code",
      "metadata": {
        "id": "ZbAudR8D4wEv",
        "colab_type": "code",
        "colab": {}
      },
      "source": [
        ""
      ],
      "execution_count": 0,
      "outputs": []
    },
    {
      "cell_type": "code",
      "metadata": {
        "id": "1wnbxLVZ4wDE",
        "colab_type": "code",
        "colab": {}
      },
      "source": [
        ""
      ],
      "execution_count": 0,
      "outputs": []
    },
    {
      "cell_type": "code",
      "metadata": {
        "id": "MhUSheTD4wBK",
        "colab_type": "code",
        "colab": {}
      },
      "source": [
        ""
      ],
      "execution_count": 0,
      "outputs": []
    },
    {
      "cell_type": "code",
      "metadata": {
        "id": "A9vxnro04v3B",
        "colab_type": "code",
        "colab": {}
      },
      "source": [
        ""
      ],
      "execution_count": 0,
      "outputs": []
    },
    {
      "cell_type": "code",
      "metadata": {
        "id": "UlRlhAD_4vw-",
        "colab_type": "code",
        "colab": {}
      },
      "source": [
        ""
      ],
      "execution_count": 0,
      "outputs": []
    },
    {
      "cell_type": "code",
      "metadata": {
        "id": "EJ7XSqNa4vou",
        "colab_type": "code",
        "colab": {}
      },
      "source": [
        ""
      ],
      "execution_count": 0,
      "outputs": []
    },
    {
      "cell_type": "code",
      "metadata": {
        "id": "fgw7P-cQ4vjz",
        "colab_type": "code",
        "colab": {}
      },
      "source": [
        ""
      ],
      "execution_count": 0,
      "outputs": []
    },
    {
      "cell_type": "code",
      "metadata": {
        "id": "tHHtUJn64vd_",
        "colab_type": "code",
        "colab": {}
      },
      "source": [
        ""
      ],
      "execution_count": 0,
      "outputs": []
    },
    {
      "cell_type": "code",
      "metadata": {
        "id": "CI9Lu9vz4vbn",
        "colab_type": "code",
        "colab": {}
      },
      "source": [
        ""
      ],
      "execution_count": 0,
      "outputs": []
    },
    {
      "cell_type": "code",
      "metadata": {
        "id": "JF1Sz6mk4vZm",
        "colab_type": "code",
        "colab": {}
      },
      "source": [
        ""
      ],
      "execution_count": 0,
      "outputs": []
    },
    {
      "cell_type": "code",
      "metadata": {
        "id": "Q12_oKJs4vX2",
        "colab_type": "code",
        "colab": {}
      },
      "source": [
        ""
      ],
      "execution_count": 0,
      "outputs": []
    },
    {
      "cell_type": "code",
      "metadata": {
        "id": "NakqEvGk4vVp",
        "colab_type": "code",
        "colab": {}
      },
      "source": [
        ""
      ],
      "execution_count": 0,
      "outputs": []
    },
    {
      "cell_type": "code",
      "metadata": {
        "id": "yG4RcvKx4vT_",
        "colab_type": "code",
        "colab": {}
      },
      "source": [
        ""
      ],
      "execution_count": 0,
      "outputs": []
    },
    {
      "cell_type": "code",
      "metadata": {
        "id": "omA5uij04uqa",
        "colab_type": "code",
        "colab": {}
      },
      "source": [
        ""
      ],
      "execution_count": 0,
      "outputs": []
    },
    {
      "cell_type": "code",
      "metadata": {
        "id": "ZxwBeU-i4uoP",
        "colab_type": "code",
        "colab": {}
      },
      "source": [
        ""
      ],
      "execution_count": 0,
      "outputs": []
    }
  ]
}