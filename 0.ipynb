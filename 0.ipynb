{
  "nbformat": 4,
  "nbformat_minor": 0,
  "metadata": {
    "colab": {
      "name": "TensorFlow_with_GPU.ipynb",
      "version": "0.3.2",
      "provenance": [],
      "collapsed_sections": [],
      "toc_visible": true,
      "include_colab_link": true
    },
    "kernelspec": {
      "name": "python3",
      "display_name": "Python 3"
    },
    "accelerator": "GPU"
  },
  "cells": [
    {
      "cell_type": "markdown",
      "metadata": {
        "id": "view-in-github",
        "colab_type": "text"
      },
      "source": [
        "<a href=\"https://colab.research.google.com/github/priyanshgupta1998/Tensorflow_deep_learning/blob/master/0.ipynb\" target=\"_parent\"><img src=\"https://colab.research.google.com/assets/colab-badge.svg\" alt=\"Open In Colab\"/></a>"
      ]
    },
    {
      "metadata": {
        "colab_type": "text",
        "id": "BlmQIFSLZDdc"
      },
      "cell_type": "markdown",
      "source": [
        "# Confirm TensorFlow can see the GPU\n",
        "\n",
        "Simply select \"GPU\" in the Accelerator drop-down in Notebook Settings (either through the Edit menu or the command palette at cmd/ctrl-shift-P)."
      ]
    },
    {
      "metadata": {
        "colab_type": "code",
        "id": "3IEVK-KFxi5Z",
        "colab": {}
      },
      "cell_type": "code",
      "source": [
        "import pandas as pd"
      ],
      "execution_count": 0,
      "outputs": []
    },
    {
      "metadata": {
        "id": "yAL-zz_TMZzZ",
        "colab_type": "text"
      },
      "cell_type": "markdown",
      "source": [
        "Make the dataframe for a raw input and data"
      ]
    },
    {
      "metadata": {
        "id": "jiXVaN37L1R6",
        "colab_type": "code",
        "outputId": "42e29b32-60b6-4467-dafb-bf7ca08ac04b",
        "colab": {
          "base_uri": "https://localhost:8080/",
          "height": 170
        }
      },
      "cell_type": "code",
      "source": [
        "prices = [[71,72,73],[91,92,93],[89,90,88],[76,75,84],[41,87,20],[24,87,96],[14,23,82],[10,80,35]]\n",
        "create_dataframe = pd.DataFrame(prices)\n",
        "print(create_dataframe)"
      ],
      "execution_count": 0,
      "outputs": [
        {
          "output_type": "stream",
          "text": [
            "    0   1   2\n",
            "0  71  72  73\n",
            "1  91  92  93\n",
            "2  89  90  88\n",
            "3  76  75  84\n",
            "4  41  87  20\n",
            "5  24  87  96\n",
            "6  14  23  82\n",
            "7  10  80  35\n"
          ],
          "name": "stdout"
        }
      ]
    },
    {
      "metadata": {
        "id": "vdfbuf2Zpx3l",
        "colab_type": "code",
        "outputId": "57a04ce8-7b5f-4651-fd44-678c81d112b7",
        "colab": {
          "base_uri": "https://localhost:8080/",
          "height": 170
        }
      },
      "cell_type": "code",
      "source": [
        "header_dataframe = pd.DataFrame(prices, columns=['jan','feb','march'])\n",
        "print(header_dataframe)"
      ],
      "execution_count": 0,
      "outputs": [
        {
          "output_type": "stream",
          "text": [
            "   jan  feb  march\n",
            "0   71   72     73\n",
            "1   91   92     93\n",
            "2   89   90     88\n",
            "3   76   75     84\n",
            "4   41   87     20\n",
            "5   24   87     96\n",
            "6   14   23     82\n",
            "7   10   80     35\n"
          ],
          "name": "stdout"
        }
      ]
    },
    {
      "metadata": {
        "id": "qWtXfcQImv3z",
        "colab_type": "text"
      },
      "cell_type": "markdown",
      "source": [
        "#WRITE / SAVE  these all dataframe in a csv file "
      ]
    },
    {
      "metadata": {
        "id": "jDQhTvgAmlxH",
        "colab_type": "code",
        "colab": {}
      },
      "cell_type": "code",
      "source": [
        "pd.DataFrame(header_dataframe).to_csv('/home/output.csv')"
      ],
      "execution_count": 0,
      "outputs": []
    },
    {
      "metadata": {
        "id": "nDXH6sqFo42U",
        "colab_type": "code",
        "outputId": "4998e0bb-05cb-41d4-b89e-06f7c32e53e3",
        "colab": {
          "base_uri": "https://localhost:8080/",
          "height": 170
        }
      },
      "cell_type": "code",
      "source": [
        "again_data_read = pd.read_csv('/home/output.csv')\n",
        "print(again_data_read)"
      ],
      "execution_count": 0,
      "outputs": [
        {
          "output_type": "stream",
          "text": [
            "   Unnamed: 0  jan  feb  march\n",
            "0           0   71   72     73\n",
            "1           1   91   92     93\n",
            "2           2   89   90     88\n",
            "3           3   76   75     84\n",
            "4           4   41   87     20\n",
            "5           5   24   87     96\n",
            "6           6   14   23     82\n",
            "7           7   10   80     35\n"
          ],
          "name": "stdout"
        }
      ]
    },
    {
      "metadata": {
        "id": "YHP2DPG9Qotp",
        "colab_type": "code",
        "outputId": "3d219776-573c-476e-9d71-6845fca8917e",
        "colab": {
          "base_uri": "https://localhost:8080/",
          "height": 170
        }
      },
      "cell_type": "code",
      "source": [
        "print(header_dataframe['jan'])"
      ],
      "execution_count": 0,
      "outputs": [
        {
          "output_type": "stream",
          "text": [
            "0    71\n",
            "1    91\n",
            "2    89\n",
            "3    76\n",
            "4    41\n",
            "5    24\n",
            "6    14\n",
            "7    10\n",
            "Name: jan, dtype: int64\n"
          ],
          "name": "stdout"
        }
      ]
    },
    {
      "metadata": {
        "id": "pCVew3SaRJJ5",
        "colab_type": "code",
        "outputId": "9450bdef-32aa-4bef-ef0f-a0eba0b96a2a",
        "colab": {
          "base_uri": "https://localhost:8080/",
          "height": 34
        }
      },
      "cell_type": "code",
      "source": [
        "print(header_dataframe['jan'][2])"
      ],
      "execution_count": 0,
      "outputs": [
        {
          "output_type": "stream",
          "text": [
            "89\n"
          ],
          "name": "stdout"
        }
      ]
    },
    {
      "metadata": {
        "id": "L0pvmuH-RJOR",
        "colab_type": "code",
        "outputId": "9ef61d05-f91e-4aa1-c811-74c7c29e44bc",
        "colab": {
          "base_uri": "https://localhost:8080/",
          "height": 323
        }
      },
      "cell_type": "code",
      "source": [
        "print(header_dataframe['jan'],'\\n',header_dataframe['march'])"
      ],
      "execution_count": 0,
      "outputs": [
        {
          "output_type": "stream",
          "text": [
            "0    71\n",
            "1    91\n",
            "2    89\n",
            "3    76\n",
            "4    41\n",
            "5    24\n",
            "6    14\n",
            "7    10\n",
            "Name: jan, dtype: int64 \n",
            " 0    73\n",
            "1    93\n",
            "2    88\n",
            "3    84\n",
            "4    20\n",
            "5    96\n",
            "6    82\n",
            "7    35\n",
            "Name: march, dtype: int64\n"
          ],
          "name": "stdout"
        }
      ]
    },
    {
      "metadata": {
        "id": "wJm6X5EsdlFC",
        "colab_type": "text"
      },
      "cell_type": "markdown",
      "source": [
        "\n",
        "#print first five lines from the dataset\n",
        "\n"
      ]
    },
    {
      "metadata": {
        "id": "9QzIo0UpRJVS",
        "colab_type": "code",
        "outputId": "da731374-5159-4886-e498-a8a03225fe12",
        "colab": {
          "base_uri": "https://localhost:8080/",
          "height": 119
        }
      },
      "cell_type": "code",
      "source": [
        "print(create_dataframe.head())"
      ],
      "execution_count": 0,
      "outputs": [
        {
          "output_type": "stream",
          "text": [
            "    0   1   2\n",
            "0  71  72  73\n",
            "1  91  92  93\n",
            "2  89  90  88\n",
            "3  76  75  84\n",
            "4  41  87  20\n"
          ],
          "name": "stdout"
        }
      ]
    },
    {
      "metadata": {
        "id": "Fej4yIxrd8xv",
        "colab_type": "text"
      },
      "cell_type": "markdown",
      "source": [
        "#print Last five lines from the datasets"
      ]
    },
    {
      "metadata": {
        "id": "PtvSulFxRJYM",
        "colab_type": "code",
        "outputId": "f1c471d1-fb6f-4d80-afcd-149b88472842",
        "colab": {
          "base_uri": "https://localhost:8080/",
          "height": 119
        }
      },
      "cell_type": "code",
      "source": [
        "print(create_dataframe.tail())"
      ],
      "execution_count": 0,
      "outputs": [
        {
          "output_type": "stream",
          "text": [
            "    0   1   2\n",
            "3  76  75  84\n",
            "4  41  87  20\n",
            "5  24  87  96\n",
            "6  14  23  82\n",
            "7  10  80  35\n"
          ],
          "name": "stdout"
        }
      ]
    }
  ]
}